{
  "cells": [
    {
      "cell_type": "markdown",
      "metadata": {
        "id": "8omoUVp-903f"
      },
      "source": [
        "# Assignment — Multi-hop Reasoning on Knowledge graphs"
      ]
    },
    {
      "cell_type": "markdown",
      "metadata": {
        "id": "rzQGHG6V903i"
      },
      "source": [
        "Knowledge graph embedding allows predicting missed links in the graph. However, it does not allow to answer of complex logical queries.\n",
        "\n",
        "For example, one can answer `Where did Canadian citizens with Turing Award graduate?`. Such questions can be decomposed into more minor questions and construct logical operations' DAG (directed acyclic graph).\n",
        "\n",
        "\n",
        "![test](http://snap.stanford.edu/query2box/model.png)\n",
        "\n",
        "_reference: http://snap.stanford.edu/query2box/_\n",
        "\n",
        "We will use implementations of models from https://github.com/snap-stanford/KGReasoning"
      ]
    },
    {
      "cell_type": "code",
      "execution_count": 3,
      "metadata": {
        "colab": {
          "base_uri": "https://localhost:8080/"
        },
        "id": "fc48GMZY-tPK",
        "outputId": "02593780-a6b5-4bc8-ee8b-118a75e5bd49"
      },
      "outputs": [
        {
          "output_type": "stream",
          "name": "stdout",
          "text": [
            "Looking in indexes: https://pypi.org/simple, https://us-python.pkg.dev/colab-wheels/public/simple/\n",
            "Collecting torchkge==0.16.25\n",
            "  Downloading torchkge-0.16.25-py2.py3-none-any.whl (48 kB)\n",
            "\u001b[K     |████████████████████████████████| 48 kB 2.7 MB/s \n",
            "\u001b[?25hRequirement already satisfied: tqdm in /usr/local/lib/python3.8/dist-packages (from torchkge==0.16.25) (4.64.1)\n",
            "Requirement already satisfied: torch>=1.2.0 in /usr/local/lib/python3.8/dist-packages (from torchkge==0.16.25) (1.12.1+cu113)\n",
            "Requirement already satisfied: pandas in /usr/local/lib/python3.8/dist-packages (from torchkge==0.16.25) (1.3.5)\n",
            "Requirement already satisfied: typing-extensions in /usr/local/lib/python3.8/dist-packages (from torch>=1.2.0->torchkge==0.16.25) (4.1.1)\n",
            "Requirement already satisfied: pytz>=2017.3 in /usr/local/lib/python3.8/dist-packages (from pandas->torchkge==0.16.25) (2022.6)\n",
            "Requirement already satisfied: numpy>=1.17.3 in /usr/local/lib/python3.8/dist-packages (from pandas->torchkge==0.16.25) (1.21.6)\n",
            "Requirement already satisfied: python-dateutil>=2.7.3 in /usr/local/lib/python3.8/dist-packages (from pandas->torchkge==0.16.25) (2.8.2)\n",
            "Requirement already satisfied: six>=1.5 in /usr/local/lib/python3.8/dist-packages (from python-dateutil>=2.7.3->pandas->torchkge==0.16.25) (1.15.0)\n",
            "Installing collected packages: torchkge\n",
            "Successfully installed torchkge-0.16.25\n"
          ]
        }
      ],
      "source": [
        "! pip install torchkge==0.16.25"
      ]
    },
    {
      "cell_type": "code",
      "execution_count": 4,
      "metadata": {
        "id": "06gjDQOF903j"
      },
      "outputs": [],
      "source": [
        "import torch\n",
        "from torch import nn\n",
        "import torch.nn.functional as F\n",
        "from torchkge import KnowledgeGraph\n",
        "from torchkge.utils import Trainer\n",
        "from torchkge.models.bilinear import RESCALModel\n",
        "from torchkge.utils import MarginLoss\n",
        "import requests\n",
        "import pandas as pd\n",
        "import numpy as np\n",
        "from zlib import adler32\n",
        "from tqdm.notebook import trange"
      ]
    },
    {
      "cell_type": "markdown",
      "metadata": {
        "id": "MJv6buJ9903k"
      },
      "source": [
        "### Task 1. Beam-search with RESCAL (1 point)\n",
        "\n",
        "Beam-search is a technique of generating most probable sequences.\n",
        "\n",
        "It works as follows:\n",
        "1. Start from some root (`<START>` token on image)\n",
        "2. Predict subsequent tokens\n",
        "3. Select `k` most probable subsequences from generated\n",
        "4. Repeat the procedure\n",
        "\n",
        "In the current task, we will apply it to the query represented in the sequential form.\n",
        "\n",
        "We will work with the queries that can be represented in conjunctive normal form. For example, we have a query `What country was replaced by Canada neighbours`. `Canada neighbors` can be found by prediction tail `t` for query `h = \"Canada\"`, `r = \"shares border with\"`. And `What country was replaced by` could be represented as a tail for query `h = t`, `r = \"replaces\"`.\n",
        "\n",
        "So our query can be decomposed into two smaller ones.\n",
        "\n",
        "Let us download the dataset from the previous seminar."
      ]
    },
    {
      "cell_type": "code",
      "execution_count": 5,
      "metadata": {
        "colab": {
          "base_uri": "https://localhost:8080/",
          "height": 206
        },
        "id": "Fn_I94Y_903k",
        "outputId": "72d36d51-efa0-4a60-835f-9b24fcedc802"
      },
      "outputs": [
        {
          "output_type": "execute_result",
          "data": {
            "text/plain": [
              "         h                    r              t\n",
              "0  Belgium              country        Belgium\n",
              "1  Belgium  diplomatic relation     Luxembourg\n",
              "2  Belgium  diplomatic relation          Italy\n",
              "3  Belgium  diplomatic relation        Germany\n",
              "4  Belgium  diplomatic relation  Liechtenstein"
            ],
            "text/html": [
              "\n",
              "  <div id=\"df-c96aa9f1-623f-4415-8acf-eb72514f871f\">\n",
              "    <div class=\"colab-df-container\">\n",
              "      <div>\n",
              "<style scoped>\n",
              "    .dataframe tbody tr th:only-of-type {\n",
              "        vertical-align: middle;\n",
              "    }\n",
              "\n",
              "    .dataframe tbody tr th {\n",
              "        vertical-align: top;\n",
              "    }\n",
              "\n",
              "    .dataframe thead th {\n",
              "        text-align: right;\n",
              "    }\n",
              "</style>\n",
              "<table border=\"1\" class=\"dataframe\">\n",
              "  <thead>\n",
              "    <tr style=\"text-align: right;\">\n",
              "      <th></th>\n",
              "      <th>h</th>\n",
              "      <th>r</th>\n",
              "      <th>t</th>\n",
              "    </tr>\n",
              "  </thead>\n",
              "  <tbody>\n",
              "    <tr>\n",
              "      <th>0</th>\n",
              "      <td>Belgium</td>\n",
              "      <td>country</td>\n",
              "      <td>Belgium</td>\n",
              "    </tr>\n",
              "    <tr>\n",
              "      <th>1</th>\n",
              "      <td>Belgium</td>\n",
              "      <td>diplomatic relation</td>\n",
              "      <td>Luxembourg</td>\n",
              "    </tr>\n",
              "    <tr>\n",
              "      <th>2</th>\n",
              "      <td>Belgium</td>\n",
              "      <td>diplomatic relation</td>\n",
              "      <td>Italy</td>\n",
              "    </tr>\n",
              "    <tr>\n",
              "      <th>3</th>\n",
              "      <td>Belgium</td>\n",
              "      <td>diplomatic relation</td>\n",
              "      <td>Germany</td>\n",
              "    </tr>\n",
              "    <tr>\n",
              "      <th>4</th>\n",
              "      <td>Belgium</td>\n",
              "      <td>diplomatic relation</td>\n",
              "      <td>Liechtenstein</td>\n",
              "    </tr>\n",
              "  </tbody>\n",
              "</table>\n",
              "</div>\n",
              "      <button class=\"colab-df-convert\" onclick=\"convertToInteractive('df-c96aa9f1-623f-4415-8acf-eb72514f871f')\"\n",
              "              title=\"Convert this dataframe to an interactive table.\"\n",
              "              style=\"display:none;\">\n",
              "        \n",
              "  <svg xmlns=\"http://www.w3.org/2000/svg\" height=\"24px\"viewBox=\"0 0 24 24\"\n",
              "       width=\"24px\">\n",
              "    <path d=\"M0 0h24v24H0V0z\" fill=\"none\"/>\n",
              "    <path d=\"M18.56 5.44l.94 2.06.94-2.06 2.06-.94-2.06-.94-.94-2.06-.94 2.06-2.06.94zm-11 1L8.5 8.5l.94-2.06 2.06-.94-2.06-.94L8.5 2.5l-.94 2.06-2.06.94zm10 10l.94 2.06.94-2.06 2.06-.94-2.06-.94-.94-2.06-.94 2.06-2.06.94z\"/><path d=\"M17.41 7.96l-1.37-1.37c-.4-.4-.92-.59-1.43-.59-.52 0-1.04.2-1.43.59L10.3 9.45l-7.72 7.72c-.78.78-.78 2.05 0 2.83L4 21.41c.39.39.9.59 1.41.59.51 0 1.02-.2 1.41-.59l7.78-7.78 2.81-2.81c.8-.78.8-2.07 0-2.86zM5.41 20L4 18.59l7.72-7.72 1.47 1.35L5.41 20z\"/>\n",
              "  </svg>\n",
              "      </button>\n",
              "      \n",
              "  <style>\n",
              "    .colab-df-container {\n",
              "      display:flex;\n",
              "      flex-wrap:wrap;\n",
              "      gap: 12px;\n",
              "    }\n",
              "\n",
              "    .colab-df-convert {\n",
              "      background-color: #E8F0FE;\n",
              "      border: none;\n",
              "      border-radius: 50%;\n",
              "      cursor: pointer;\n",
              "      display: none;\n",
              "      fill: #1967D2;\n",
              "      height: 32px;\n",
              "      padding: 0 0 0 0;\n",
              "      width: 32px;\n",
              "    }\n",
              "\n",
              "    .colab-df-convert:hover {\n",
              "      background-color: #E2EBFA;\n",
              "      box-shadow: 0px 1px 2px rgba(60, 64, 67, 0.3), 0px 1px 3px 1px rgba(60, 64, 67, 0.15);\n",
              "      fill: #174EA6;\n",
              "    }\n",
              "\n",
              "    [theme=dark] .colab-df-convert {\n",
              "      background-color: #3B4455;\n",
              "      fill: #D2E3FC;\n",
              "    }\n",
              "\n",
              "    [theme=dark] .colab-df-convert:hover {\n",
              "      background-color: #434B5C;\n",
              "      box-shadow: 0px 1px 3px 1px rgba(0, 0, 0, 0.15);\n",
              "      filter: drop-shadow(0px 1px 2px rgba(0, 0, 0, 0.3));\n",
              "      fill: #FFFFFF;\n",
              "    }\n",
              "  </style>\n",
              "\n",
              "      <script>\n",
              "        const buttonEl =\n",
              "          document.querySelector('#df-c96aa9f1-623f-4415-8acf-eb72514f871f button.colab-df-convert');\n",
              "        buttonEl.style.display =\n",
              "          google.colab.kernel.accessAllowed ? 'block' : 'none';\n",
              "\n",
              "        async function convertToInteractive(key) {\n",
              "          const element = document.querySelector('#df-c96aa9f1-623f-4415-8acf-eb72514f871f');\n",
              "          const dataTable =\n",
              "            await google.colab.kernel.invokeFunction('convertToInteractive',\n",
              "                                                     [key], {});\n",
              "          if (!dataTable) return;\n",
              "\n",
              "          const docLinkHtml = 'Like what you see? Visit the ' +\n",
              "            '<a target=\"_blank\" href=https://colab.research.google.com/notebooks/data_table.ipynb>data table notebook</a>'\n",
              "            + ' to learn more about interactive tables.';\n",
              "          element.innerHTML = '';\n",
              "          dataTable['output_type'] = 'display_data';\n",
              "          await google.colab.output.renderOutput(dataTable, element);\n",
              "          const docLink = document.createElement('div');\n",
              "          docLink.innerHTML = docLinkHtml;\n",
              "          element.appendChild(docLink);\n",
              "        }\n",
              "      </script>\n",
              "    </div>\n",
              "  </div>\n",
              "  "
            ]
          },
          "metadata": {},
          "execution_count": 5
        }
      ],
      "source": [
        "url = 'https://raw.githubusercontent.com/netspractice/network-science/main/datasets/countries_edges.tsv'\n",
        "open('countries_edges.tsv', 'wb').write(requests.get(url).content)\n",
        "url = 'https://raw.githubusercontent.com/netspractice/network-science/main/datasets/countries_entities.tsv'\n",
        "open('countries_entities.tsv', 'wb').write(requests.get(url).content)\n",
        "url = 'https://raw.githubusercontent.com/netspractice/network-science/main/datasets/countries_relations.tsv'\n",
        "open('countries_relations.tsv', 'wb').write(requests.get(url).content);\n",
        "\n",
        "\n",
        "edges = pd.read_csv('countries_edges.tsv', sep='\t').values\n",
        "entity_labels = pd.read_csv('countries_entities.tsv', sep='\t', index_col=0).label.values\n",
        "relation_labels = pd.read_csv('countries_relations.tsv', sep='\t', index_col=0).label.values\n",
        "\n",
        "edges_labeled = np.stack([entity_labels[edges[:, 0]], \n",
        "                          entity_labels[edges[:, 1]], \n",
        "                          relation_labels[edges[:, 2]]], axis=1)\n",
        "\n",
        "df = pd.DataFrame(edges_labeled, columns=['h', 't', 'r'])[['h', 'r', 't']]\n",
        "df.head()"
      ]
    },
    {
      "cell_type": "markdown",
      "metadata": {
        "id": "mDPeMhUp903m"
      },
      "source": [
        "Firstly, we need to check the answer in the given dataset."
      ]
    },
    {
      "cell_type": "code",
      "execution_count": 6,
      "metadata": {
        "id": "LGmUIpsg903m"
      },
      "outputs": [],
      "source": [
        "neighbors = set(df[(df.h == 'Canada') & (df.r == \"shares border with\")].t)"
      ]
    },
    {
      "cell_type": "code",
      "execution_count": 7,
      "metadata": {
        "id": "ZakAiZDe903n"
      },
      "outputs": [],
      "source": [
        "def find_replaces(df):\n",
        "    neighbors = set(df[(df.h == 'Canada') & (df.r == \"shares border with\")].t)\n",
        "    return set(df[df.h.isin(neighbors) & (df.r == \"replaces\")].t)"
      ]
    },
    {
      "cell_type": "code",
      "execution_count": 8,
      "metadata": {
        "colab": {
          "base_uri": "https://localhost:8080/"
        },
        "id": "GaDqKU_s903n",
        "outputId": "f5a22141-9894-42a3-ac77-63fd2d35edf3"
      },
      "outputs": [
        {
          "output_type": "stream",
          "name": "stdout",
          "text": [
            "Confederate States of America\n"
          ]
        }
      ],
      "source": [
        "el = find_replaces(df).pop()\n",
        "print(el)"
      ]
    },
    {
      "cell_type": "markdown",
      "metadata": {
        "id": "Vz2jK646903n"
      },
      "source": [
        "We can find an answer in our dataset, but for complex queries or incomplete graphs, such a task could be very hard. So we can work with knowledge graph embedding models to solve it.\n",
        "\n",
        "Firstly, let us initialize the knowledge graph dataset from torchkge."
      ]
    },
    {
      "cell_type": "code",
      "execution_count": 9,
      "metadata": {
        "id": "NZu-I1N-903o"
      },
      "outputs": [],
      "source": [
        "kg = KnowledgeGraph(pd.DataFrame(edges_labeled, columns=['from', 'to', 'rel']))"
      ]
    },
    {
      "cell_type": "markdown",
      "metadata": {
        "id": "cpd-vENe903o"
      },
      "source": [
        "Secondly, we need to train the fine embedding model. We will use `RESCALModel` from torchkge. Similarly to the TransE model from the previous seminar, it learns two embedding tensors. However, instead of embed relations, it learns the projection matrix for each relation."
      ]
    },
    {
      "cell_type": "code",
      "execution_count": 10,
      "metadata": {
        "id": "M7xKMOv8903o"
      },
      "outputs": [],
      "source": [
        "model = RESCALModel(128, kg.n_ent, kg.n_rel)\n",
        "criterion = MarginLoss(margin=0.5)\n",
        "optimizer = torch.optim.Adam(model.parameters(), lr=0.001)\n",
        "\n",
        "trainer = Trainer(\n",
        "    model, criterion, kg, n_epochs=250, \n",
        "    batch_size=2048, optimizer=optimizer)"
      ]
    },
    {
      "cell_type": "code",
      "execution_count": 11,
      "metadata": {
        "colab": {
          "base_uri": "https://localhost:8080/",
          "height": 49,
          "referenced_widgets": [
            "2d9e6a3d2a704d6283242da3e4e48cc2",
            "ab245510e65d4d0b9fcadfca975ddd74",
            "f580ff26a7864fedb165ac5ad946706d",
            "e55dcdfadb2a4384ab72eb9ca4a21cc1",
            "523cf0235d4a4656b61906999d0864fe",
            "5a459c4bedf5468f9c62b20fa10ec9d6",
            "ac76748a52ec404487205e6d4b0b6473",
            "9e1e261e1203436ab258f67403be792f",
            "9982b8da1b184dd59025d5a7e549afa0",
            "85ff31b423e544629518f00b0192c14f",
            "97a2490fc57441a3a39d3c985b5ecfa5"
          ]
        },
        "id": "2CAWAqsV903o",
        "outputId": "d5404cbb-f7db-41c8-8da2-683a69b1f8e2",
        "scrolled": true
      },
      "outputs": [
        {
          "output_type": "display_data",
          "data": {
            "text/plain": [
              "  0%|          | 0/250 [00:00<?, ?epoch/s]"
            ],
            "application/vnd.jupyter.widget-view+json": {
              "version_major": 2,
              "version_minor": 0,
              "model_id": "2d9e6a3d2a704d6283242da3e4e48cc2"
            }
          },
          "metadata": {}
        }
      ],
      "source": [
        "trainer.run()"
      ]
    },
    {
      "cell_type": "markdown",
      "metadata": {
        "id": "6Y1c9T_H903p"
      },
      "source": [
        "After the model trained, we need to find the top k most similar tails to our head and relation.\n",
        "\n",
        "You need to define the `find_most_similar` function that takes our trained model, knowledge graph, head and relation from a query in string form and the number of most similar items to return.\n",
        "\n",
        "It works as follows:\n",
        "\n",
        "1. Extract embeddings from the model using `get_embeddings` method\n",
        "2. Extract vector for head\n",
        "3. Extract matrix for relation\n",
        "4. Calculate predicted embedding for tail via torch.matmull over head vector and relation matrix\n",
        "5. Normalize predicted vector\n",
        "6. Calculate cosine similarity between predicted embedding and each entity from entity embedding matrix (normalize dot product + 1 / 2)\n",
        "7. Return np.array with indices of the top k most similar entities and np.array with corresponding values sorted in descending order"
      ]
    },
    {
      "cell_type": "code",
      "execution_count": 12,
      "metadata": {
        "id": "wURjB-fY903p"
      },
      "outputs": [],
      "source": [
        "def find_most_similar(model, kg, head, relation, k):\n",
        "    e, r = model.get_embeddings()\n",
        "    he = e[kg.ent2ix[head]]\n",
        "    re = r[kg.rel2ix[relation]]\n",
        "    predicted = F.normalize(torch.matmul(he, re), dim=0)\n",
        "    similarity = ((e * predicted).sum(axis=1) + 1) / 2\n",
        "    topk = similarity.argsort()[-k:]\n",
        "    return topk.numpy()[::-1], similarity[topk].numpy()[::-1]"
      ]
    },
    {
      "cell_type": "code",
      "execution_count": 13,
      "metadata": {
        "id": "nvnv-kDR903p"
      },
      "outputs": [],
      "source": [
        "ids, sims = find_most_similar(model, kg, \"Canada\", \"shares border with\", 5)"
      ]
    },
    {
      "cell_type": "markdown",
      "metadata": {
        "id": "lg1JdGOD903q"
      },
      "source": [
        "Now we can try to answer our query in two steps."
      ]
    },
    {
      "cell_type": "code",
      "execution_count": 14,
      "metadata": {
        "colab": {
          "base_uri": "https://localhost:8080/"
        },
        "id": "3C0UfE39903q",
        "outputId": "8ca38cff-7834-4ed2-8d24-7477ed9a8a3d"
      },
      "outputs": [
        {
          "output_type": "stream",
          "name": "stdout",
          "text": [
            "Villes libres de Menton et Roquebrune\n",
            "Confederate States of America\n",
            "Confederate States of America\n",
            "Socialist Federal Republic of Yugoslavia\n",
            "Socialist Federal Republic of Yugoslavia\n"
          ]
        }
      ],
      "source": [
        "# 1\n",
        "ids, sims = find_most_similar(model, kg, \"Canada\", \"shares border with\", 5)\n",
        "\n",
        "# 2\n",
        "ix2ent = {j: i for i, j in kg.ent2ix.items()}\n",
        "results = []\n",
        "for i in ids:\n",
        "    idx, s = find_most_similar(model, kg, ix2ent[i], \"replaces\", 5)\n",
        "    score_matrix = np.outer(sims, s).flatten()\n",
        "    topk = score_matrix.argsort()[-5:]\n",
        "    results.extend(zip(ids[topk // 5], idx[topk % 5], score_matrix[topk]))\n",
        "results_topk = sorted(results, key=lambda x: x[2])[-5:]\n",
        "results_topk_entities = [ix2ent[j] for _, j, _ in results_topk]\n",
        "\n",
        "print('\\n'.join(results_topk_entities))"
      ]
    },
    {
      "cell_type": "markdown",
      "metadata": {
        "id": "3ESFT7qF903q"
      },
      "source": [
        "### Task 2. [Graph query embedding](https://arxiv.org/abs/1806.01445) (2 points)\n",
        "\n",
        "In the previous task we use the several projection steps. It is a analogue of existential quantification in the vector space.\n",
        "\n",
        "Graph Query Embedding also allow to handle conjunction between different statements. For example, we may want to answer question `What country Russia and Canada share border with?`.\n",
        "\n",
        "This statement could be decomposed to the statement. `Russia shares border with` & `Canada shares border with`.\n",
        "\n",
        "The GQE models the projection using translation operator (similarly to TransE) and [DeepSets](https://arxiv.org/abs/1703.06114) to model conjunction. The intersection operator works in several steps:\n",
        "1. We pass individual element embeddings through the feed-forward neural network.\n",
        "2. We aggregate the result of model inference using a symmetric operator (e.g. mean, sum).\n",
        "3. Transform it using a projection matrix.\n",
        "\n",
        "Let us download the realized models from https://github.com/snap-stanford/KGReasoning."
      ]
    },
    {
      "cell_type": "code",
      "execution_count": 15,
      "metadata": {
        "id": "Jzb9ewnS903r"
      },
      "outputs": [],
      "source": [
        "url = 'https://raw.githubusercontent.com/snap-stanford/KGReasoning/main/models.py'\n",
        "with open(\"models.py\", \"wb\") as f:\n",
        "    f.write(requests.get(url).content)\n",
        "    \n",
        "url = 'https://raw.githubusercontent.com/snap-stanford/KGReasoning/main/dataloader.py'\n",
        "with open(\"dataloader.py\", \"wb\") as f:\n",
        "    f.write(requests.get(url).content)\n",
        "    \n",
        "url = 'https://raw.githubusercontent.com/snap-stanford/KGReasoning/main/util.py'\n",
        "with open(\"util.py\", \"wb\") as f:\n",
        "    f.write(requests.get(url).content)\n"
      ]
    },
    {
      "cell_type": "code",
      "execution_count": 16,
      "metadata": {
        "id": "mpCfUzyq903r"
      },
      "outputs": [],
      "source": [
        "import models"
      ]
    },
    {
      "cell_type": "markdown",
      "metadata": {
        "id": "NMbpFdTz903r"
      },
      "source": [
        "Firstly, we need to define what types of queries we will prefer to handle.\n",
        "\n",
        "1. `1p` is one projection (both models)\n",
        "2. `2p` is two sequential projections (both models)\n",
        "3. `2u-DNF` is a disjunctive normal form, i.e. union (disjunction) between two `1p` queries (Q2B)"
      ]
    },
    {
      "cell_type": "code",
      "execution_count": 17,
      "metadata": {
        "id": "JYVxh-xA903s"
      },
      "outputs": [],
      "source": [
        "query_name_dict = {\n",
        "    ('e',('r',)): '1p', \n",
        "    ('e', ('r', 'r')): '2p',\n",
        "    (('e', ('r',)), ('e', ('r',))): '2i',\n",
        "    (('e', ('r',)), ('e', ('r',)), ('u',)): '2u-DNF',\n",
        "}"
      ]
    },
    {
      "cell_type": "markdown",
      "metadata": {
        "id": "sRX1t9N5903s"
      },
      "source": [
        "Before model training, we need to generate datasets for it.\n",
        "\n",
        "You need to implement two functions, `generate_queries` and `generete_queries_conjunction`.\n",
        "\n",
        "The first one generates one- and two-hop queries and answers. It takes df with hrt triplets, mapping from text entity to ids (`kg.ent2ix`), mapping from text relation to ids (`kg.rel2ix`). And it should return the list with triplets in the form of query type and the mapping of answers. Answers are constructed as a python dictionary where keys are queries and value is a set of possible tails to answer the given query.\n",
        "\n",
        "E.g. if we have a query of type `1p` the sample should look like `(187, (41,))`. Similarly, for `2i` query: `(187, (41,), (1342, (41,)))`.\n",
        "\n",
        "The answer for this queries should look like:\n",
        "\n",
        "```\n",
        "{\n",
        "    (187, (41,)): {345, 588, 1666},\n",
        "    (187, (41,), (1342, (41,))): {1666}\n",
        "}\n",
        "```\n",
        "\n",
        "Firstly, you need to convert heads, relations and tails by corresponding ids.\n",
        "\n",
        "Then, you need to calculate one-hop queries. One-hop queries could be calculated by group by over data frame (`df.groupby(['h','r']).t.agg(set)`)\n",
        "\n",
        "Finally, you need to find two-hop relations. We can join the data frame on itself left_on `t` and right_on `h`. Now, the data frame should be grouped by `h_x`, `r_x` and `r_y`."
      ]
    },
    {
      "cell_type": "code",
      "execution_count": 18,
      "metadata": {
        "id": "bheN1twA903s"
      },
      "outputs": [],
      "source": [
        "def generate_queries(df, ent2id, rel2id):\n",
        "    df = df.copy()\n",
        "    df.h = df.h.map(ent2id)\n",
        "    df.t = df.t.map(ent2id)\n",
        "    df.r = df.r.map(rel2id)\n",
        "\n",
        "    tmp = df.groupby(['h', 'r']).agg(set).reset_index()\n",
        "    \n",
        "    tmp['one-hop'] = tmp.apply(lambda x: (x.h, (x.r,)), axis=1)\n",
        "    ans = dict(zip(tmp['one-hop'], tmp.t))\n",
        "    que = tmp['one-hop'].map(lambda x: (x, (\"e\", (\"r\",)))).tolist()\n",
        "    \n",
        "    twohop = df.merge(df, how='left', left_on=['t'], right_on='h').groupby(['h_x', 'r_x', 'r_y']).t_y.agg(set).reset_index()\n",
        "    twohop['two-hop'] = twohop.apply(lambda x: (x.h_x, (x.r_x, x.r_y)), axis=1)\n",
        "    ans.update(dict(zip(twohop['two-hop'], twohop.t_y)))\n",
        "    que.extend(twohop['two-hop'].map(lambda x: (x, (\"e\", (\"r\", \"r\")))))\n",
        "    return que, ans"
      ]
    },
    {
      "cell_type": "code",
      "execution_count": 19,
      "metadata": {
        "id": "vA3l6mU2903s"
      },
      "outputs": [],
      "source": [
        "train_queries, train_answers = generate_queries(df, kg.ent2ix, kg.rel2ix)"
      ]
    },
    {
      "cell_type": "markdown",
      "metadata": {
        "id": "1XsmGnVH903s"
      },
      "source": [
        "Also, we want to generate some intersection (conjunction) examples of type `2i` with `generate_queries_conjunction`.\n",
        "\n",
        "Intersection result of two projection relations could be achieved by joining the data frame with itself on `t` column because intersection means coincidental result.\n",
        "\n",
        "`generate_queries_conjunction` works similarly to `generate_queries` but should find intersection queries. "
      ]
    },
    {
      "cell_type": "code",
      "execution_count": 20,
      "metadata": {
        "id": "vDQ9Th5L903t"
      },
      "outputs": [],
      "source": [
        "def generate_queries_conjunction(df, ent2id, rel2id):\n",
        "    df = df.copy()\n",
        "    df.h = df.h.map(ent2id)\n",
        "    df.t = df.t.map(ent2id)\n",
        "    df.r = df.r.map(rel2id)\n",
        "    \n",
        "    queries = []\n",
        "    df2 = df.merge(df, how='left', on='t')\n",
        "    intersection = df2.groupby(['h_x', 'r_x', 'h_y', 'r_y']).t.agg(set).reset_index()\n",
        "    intersection['intersection'] = intersection.apply(lambda x: ((x.h_x, (x.r_x,)), (x.h_y, (x.r_y,))), axis=1)\n",
        "    ans = dict(zip(intersection['intersection'], intersection.t))\n",
        "    que = intersection['intersection'].map(lambda x: (x, ((\"e\", (\"r\",)), (\"e\", (\"r\",))))).tolist()\n",
        "    return que, ans"
      ]
    },
    {
      "cell_type": "code",
      "execution_count": 21,
      "metadata": {
        "id": "-JMYs1-w903t"
      },
      "outputs": [],
      "source": [
        "train_queries_conj, train_answers_conj = generate_queries_conjunction(df, kg.ent2ix, kg.rel2ix)"
      ]
    },
    {
      "cell_type": "markdown",
      "metadata": {
        "id": "LivyfXWZ903t"
      },
      "source": [
        "We can merge both train samples."
      ]
    },
    {
      "cell_type": "code",
      "execution_count": 22,
      "metadata": {
        "id": "yRyPgqQA903t"
      },
      "outputs": [],
      "source": [
        "train_queries.extend(train_queries_conj)\n",
        "train_answers.update(train_answers_conj)"
      ]
    },
    {
      "cell_type": "markdown",
      "metadata": {
        "id": "XDVVGl64903u"
      },
      "source": [
        "Now we are ready to instantiate the GQE model using the `KGReasoning` wrapper. The `geo` argument defines what model to use: `vec` is a GQE, `box` is a Query2Box, `betae` is a BetaE model."
      ]
    },
    {
      "cell_type": "code",
      "execution_count": 23,
      "metadata": {
        "id": "l1WQ1RMk903u"
      },
      "outputs": [],
      "source": [
        "cqe_model = models.KGReasoning(\n",
        "    nentity=kg.n_ent,\n",
        "    nrelation=kg.n_rel,\n",
        "    hidden_dim=800,\n",
        "    gamma=24,\n",
        "    geo=\"vec\",\n",
        "    use_cuda=False,\n",
        "    box_mode=None,\n",
        "    beta_mode=None,\n",
        "    test_batch_size=128,\n",
        "    query_name_dict=query_name_dict\n",
        ")"
      ]
    },
    {
      "cell_type": "markdown",
      "metadata": {
        "id": "Sf-b9mb3903u"
      },
      "source": [
        "Optimizer to train it"
      ]
    },
    {
      "cell_type": "code",
      "execution_count": 24,
      "metadata": {
        "id": "SBnWWMJX903u"
      },
      "outputs": [],
      "source": [
        "optimizer = torch.optim.Adam(\n",
        "    filter(lambda p: p.requires_grad, cqe_model.parameters()), \n",
        "    lr=0.001\n",
        ")"
      ]
    },
    {
      "cell_type": "markdown",
      "metadata": {
        "id": "NSb3EvXU903u"
      },
      "source": [
        "Dataset iterator"
      ]
    },
    {
      "cell_type": "code",
      "execution_count": 25,
      "metadata": {
        "colab": {
          "base_uri": "https://localhost:8080/"
        },
        "id": "XcPD8qNF903v",
        "outputId": "6a2de488-9597-4a43-b2c9-58db54ab9ccf"
      },
      "outputs": [
        {
          "output_type": "stream",
          "name": "stderr",
          "text": [
            "/usr/local/lib/python3.8/dist-packages/torch/utils/data/dataloader.py:563: UserWarning: This DataLoader will create 4 worker processes in total. Our suggested max number of worker in current system is 2, which is smaller than what this DataLoader is going to create. Please be aware that excessive worker creation might get DataLoader running slow or even freeze, lower the worker number to avoid potential slowness/freeze if necessary.\n",
            "  warnings.warn(_create_warning_msg(\n"
          ]
        }
      ],
      "source": [
        "from torch.utils.data import DataLoader\n",
        "from dataloader import TestDataset, TrainDataset, SingledirectionalOneShotIterator\n",
        "\n",
        "train_path_iterator = SingledirectionalOneShotIterator(DataLoader(\n",
        "    TrainDataset(train_queries_conj, kg.n_ent, kg.n_rel, 128, train_answers_conj),\n",
        "    batch_size=512,\n",
        "    shuffle=True,\n",
        "    num_workers=4,\n",
        "    collate_fn=TrainDataset.collate_fn\n",
        "))"
      ]
    },
    {
      "cell_type": "markdown",
      "metadata": {
        "id": "D3oxx9i5903v"
      },
      "source": [
        "Let us mock-up CLI arguments"
      ]
    },
    {
      "cell_type": "code",
      "execution_count": 26,
      "metadata": {
        "id": "f1uVpOvg903v"
      },
      "outputs": [],
      "source": [
        "class Args:\n",
        "    print_on_screen = True\n",
        "    cuda = False\n",
        "    test_batch_size = 1\n",
        "    test_log_steps = 10\n",
        "args = Args()"
      ]
    },
    {
      "cell_type": "markdown",
      "metadata": {
        "id": "tGFutMaa903v"
      },
      "source": [
        "And train model"
      ]
    },
    {
      "cell_type": "code",
      "execution_count": 27,
      "metadata": {
        "colab": {
          "base_uri": "https://localhost:8080/",
          "height": 49,
          "referenced_widgets": [
            "63201445671c4bc8a5f7006bdb057413",
            "21da428510ff4059a010445994456870",
            "0c1789a4dfca4bbe9011b2024a0ae434",
            "f4575442dcb54c94b938f27ed82dffb5",
            "b8232584b97b474782b1c005f58ad15c",
            "b9693ce43f9a49318f13e078ed3fbddd",
            "a66c0b7175bb4285a12ba34fae5b9b36",
            "8d75285c79f14a74a2c52c92478d46fd",
            "bb3e0fd8e90e46568b8e910db2aa886d",
            "d68c9ecf449e40188a0b6a85329f4661",
            "6a08ea4f01eb400598dede421395e802"
          ]
        },
        "id": "NJOZm3C9903v",
        "outputId": "8d7b6d75-b7b9-44b9-cd54-9993a374e458",
        "scrolled": true
      },
      "outputs": [
        {
          "output_type": "display_data",
          "data": {
            "text/plain": [
              "  0%|          | 0/50 [00:00<?, ?it/s]"
            ],
            "application/vnd.jupyter.widget-view+json": {
              "version_major": 2,
              "version_minor": 0,
              "model_id": "63201445671c4bc8a5f7006bdb057413"
            }
          },
          "metadata": {}
        }
      ],
      "source": [
        "for i in trange(50):\n",
        "    cqe_model.train_step(cqe_model, optimizer, train_path_iterator, args,i)"
      ]
    },
    {
      "cell_type": "markdown",
      "metadata": {
        "id": "OxsbUw4I903w"
      },
      "source": [
        "To predict results, we need to define the `predict_kg_reasoning` function.\n",
        "\n",
        "The input is our trained model, torchkge knowledge graph, flatten query and its type.\n",
        "\n",
        "Flatten query is a flat list with ids, without query_type structure, e.g. `[1342, 41, 187, 41]`\n",
        "\n",
        "We will use the native model.forward function. It takes several arguments: positive_sample, negative_sample, subsampling_weight, batch_queries_dict, batch_idxs_dict. The positive_sample and subsampling_weight is None.\n",
        "\n",
        "The negative sample is constructed as array of all entity ids with the shape `(1, number of entities)`.\n",
        "\n",
        "\n",
        "After, you need to construct batch_queries_dict -- a mapping from query type to query wrapped with torch.tensor of shape `(1, len(flatten_query))`.\n",
        "\n",
        "Then, you need to construct batch_idxs_dict -- a mapping from query_type to indices of corresponding queries. Here we have only one index so that it will be a `{query_type: [0]}`.\n",
        "\n",
        "Now, you can pass it to the `model.forward` function and receive `positive_logit, negative_logit, subsampling_weight, batch_ids`. However, we are only interested in the `negative_logit`.\n",
        "\n",
        "Negative logit is our score of how close each entity is to our answer. To choose the best entity ids, we need to argsort our negative_logit and take top k.\n",
        "\n",
        "Finally, you need to convert entity"
      ]
    },
    {
      "cell_type": "code",
      "execution_count": 28,
      "metadata": {
        "id": "ScBO83Ce903w"
      },
      "outputs": [],
      "source": [
        "def predict_kg_reasoning(model, kg, flatten_query, query_type, k=5, ix2ent=ix2ent):\n",
        "    query = {\n",
        "        query_type: torch.tensor([flatten_query])\n",
        "    }\n",
        "    query_type_dict = {query_type: [0]}\n",
        "    negative_sample = torch.arange(kg.n_ent).view(1, -1)\n",
        "    \n",
        "    _, negative_logit, _, idxs = model(None, negative_sample, None, query, query_type_dict)\n",
        "    argsort = torch.argsort(negative_logit, dim=1, descending=True).flatten()\n",
        "    res = [ix2ent[i] for i in argsort.numpy()][:k]\n",
        "    return res"
      ]
    },
    {
      "cell_type": "code",
      "execution_count": 29,
      "metadata": {
        "colab": {
          "base_uri": "https://localhost:8080/"
        },
        "id": "xX5Gjz2H903w",
        "outputId": "5d0ff486-db79-4d3c-9823-a62d5413857f"
      },
      "outputs": [
        {
          "output_type": "stream",
          "name": "stdout",
          "text": [
            "Russia\n",
            "Canada\n",
            "People's Republic of China\n",
            "United States of America\n",
            "France\n"
          ]
        }
      ],
      "source": [
        "ans = predict_kg_reasoning(cqe_model, kg, [kg.ent2ix['Russia'], kg.rel2ix['shares border with'], kg.ent2ix['Canada'], kg.rel2ix['shares border with']], (('e', ('r', )), ('e', ('r', ))))\n",
        "print('\\n'.join(ans))"
      ]
    },
    {
      "cell_type": "markdown",
      "metadata": {
        "id": "UDCP4k77903w"
      },
      "source": [
        "### Task 3. [Query2Box](http://snap.stanford.edu/query2box/) (7 points)\n",
        "\n",
        "Query2Box additionally allow to model union (disjunction) queries.\n",
        "\n",
        "\n",
        "The general idea of Query2Box is to model sets as boxes. If an entity is in the set, then the corresponding embedding should lie inside the query box. The box is defined by the vector of centre and offset.\n",
        "\n",
        "The projection (existential operator) works similarly to the translation models: the model sums the centres and offsets.\n",
        "The intersection of the boxes could be found by performing attention over box queries. Offsets are calculated using DeepSets over the boxes and are shrunk with the sigmoid function.\n",
        "\n",
        "A simple geometric union of the boxes could be a bad idea because query boxes could lie in different places of our space. So, before doing union, the authors propose transforming our query to the disjunctive normal form (DNF).\n",
        "It allows to perform all box logic with projection and intersection operators and, finally, found the best entities close to one of the resulting boxes.\n",
        "\n",
        "![test](http://snap.stanford.edu/query2box/dnf.png)\n",
        "\n",
        "\n",
        "Before we train the model, we need to generate the disjunctive examples to it.\n",
        "\n",
        "We will generate union pairs only for relation type `shares border with`.\n",
        "`generate_queries_disjunction` takes the data frame with triplets, entity to index converter, relation to index converter, number of elements in subsample and random_state for sampling.\n",
        "\n",
        "1. Generate one-hop queries\n",
        "2. Generate two samples from step 1 using `df.sample(n, random_state=random_state)`\n",
        "3. zip one-hop queries and construct union query (e.g. `((187, (41, )), (1071, (41, )), (-1,))`)\n",
        "4. construct answers as unions of answers for one-hop queries"
      ]
    },
    {
      "cell_type": "code",
      "execution_count": 30,
      "metadata": {
        "id": "PpWRjCvT903w"
      },
      "outputs": [],
      "source": [
        "def generate_queries_disjunction(df, ent2id, rel2id, n, random_state=0):\n",
        "    df = df.copy()\n",
        "    df.h = df.h.map(ent2id)\n",
        "    df.t = df.t.map(ent2id)\n",
        "    df.r = df.r.map(rel2id)\n",
        "    \n",
        "    df = df[df.r == rel2id['shares border with']]\n",
        "    tmp = df.groupby(['h', 'r']).t.agg(set).reset_index()\n",
        "    tmp['one'] = tmp.apply(lambda x: (x.h, (x.r,)), axis=1)\n",
        "    a = tmp.sample(n, random_state=random_state)\n",
        "    b = tmp.sample(n, random_state=random_state+1)\n",
        "    que = [(i, j, (-1,)) for i, j in zip(a.one, b.one)]\n",
        "    ans = dict(zip(que, a.t.values | b.t.values))\n",
        "    return [(i, (('e', ('r',)), ('e', ('r',)), ('u',))) for i in que], ans"
      ]
    },
    {
      "cell_type": "code",
      "execution_count": 32,
      "metadata": {
        "colab": {
          "base_uri": "https://localhost:8080/",
          "height": 49,
          "referenced_widgets": [
            "1e140c08acae4ef59b0d7331e3d34298",
            "169a1dc3778148078e2bf1515b67663d",
            "28feebf59aef45e187aca8b3231859d6",
            "fc9799ff5cd54dfe9bf14df95b6258c5",
            "04f46f363f7f4ca993f77a7e8a1fce28",
            "d28527f7d4e24a69bb3f87ec294ccb11",
            "10f6e704c6ff4c1c98fe5e1e8b17dc15",
            "28c31977a936488b9df30df644f7d0df",
            "bfac4cd80c91449b881f5a4c294c9fc1",
            "9e02305f78e2460fb3fd69c33090b85c",
            "59b306b4281f4d958a2ebfb626737f42"
          ]
        },
        "id": "2jmaP2Ow903x",
        "scrolled": true,
        "outputId": "0f341e82-949e-4a5d-c312-3857772f93c4"
      },
      "outputs": [
        {
          "output_type": "display_data",
          "data": {
            "text/plain": [
              "  0%|          | 0/500 [00:00<?, ?it/s]"
            ],
            "application/vnd.jupyter.widget-view+json": {
              "version_major": 2,
              "version_minor": 0,
              "model_id": "1e140c08acae4ef59b0d7331e3d34298"
            }
          },
          "metadata": {}
        }
      ],
      "source": [
        "train_queries_dis = []\n",
        "train_answers_dis = {}\n",
        "for i in trange(500):\n",
        "    tq, ta = generate_queries_disjunction(df, kg.ent2ix, kg.rel2ix, 300, random_state=2 * i)\n",
        "    train_queries_dis.extend(tq)\n",
        "    train_answers_dis.update(ta)"
      ]
    },
    {
      "cell_type": "markdown",
      "metadata": {
        "id": "Atv_Zx_o903x"
      },
      "source": [
        "Initialize model, optimizer and train iterator."
      ]
    },
    {
      "cell_type": "code",
      "execution_count": 33,
      "metadata": {
        "id": "PxHKrg_C903x"
      },
      "outputs": [],
      "source": [
        "q2b_model = models.KGReasoning(\n",
        "    nentity=kg.n_ent,\n",
        "    nrelation=kg.n_rel,\n",
        "    hidden_dim=800,\n",
        "    gamma=24,\n",
        "    geo=\"box\",\n",
        "    use_cuda=False,\n",
        "    box_mode=('relu', 0.05),\n",
        "    beta_mode=None,\n",
        "    test_batch_size=128,\n",
        "    query_name_dict=query_name_dict\n",
        ")\n",
        "\n",
        "optimizer = torch.optim.Adam(\n",
        "    filter(lambda p: p.requires_grad, q2b_model.parameters()), \n",
        "    lr=0.01\n",
        ")\n",
        "\n",
        "train_path_iterator = SingledirectionalOneShotIterator(DataLoader(\n",
        "    TrainDataset(train_queries_dis, kg.n_ent, kg.n_rel, 128, train_answers_dis),\n",
        "    batch_size=512,\n",
        "    shuffle=True,\n",
        "    num_workers=4,\n",
        "    collate_fn=TrainDataset.collate_fn\n",
        "))"
      ]
    },
    {
      "cell_type": "markdown",
      "metadata": {
        "id": "ulRSnQwd903x"
      },
      "source": [
        "Now, we will try to answer the question `What countries share a border with Canada or Mexico?`."
      ]
    },
    {
      "cell_type": "code",
      "execution_count": 31,
      "metadata": {
        "colab": {
          "base_uri": "https://localhost:8080/"
        },
        "id": "X_J_95sf903x",
        "outputId": "20bd20bc-16c4-457a-c481-65ca4cb4c489"
      },
      "outputs": [
        {
          "output_type": "execute_result",
          "data": {
            "text/plain": [
              "{'Belize',\n",
              " 'Dominion of Newfoundland',\n",
              " 'Greenland',\n",
              " 'Guatemala',\n",
              " 'United States of America'}"
            ]
          },
          "metadata": {},
          "execution_count": 31
        }
      ],
      "source": [
        "set(df[(df.h == 'Mexico') & (df.r == 'shares border with')].append(df[(df.h == 'Canada') & (df.r == 'shares border with')]).t)"
      ]
    },
    {
      "cell_type": "code",
      "execution_count": 34,
      "metadata": {
        "colab": {
          "base_uri": "https://localhost:8080/",
          "height": 49,
          "referenced_widgets": [
            "c1be8a1d1ec94dff8bd4c0088b37029d",
            "278b5fff61ee4e15a88fbdf4c4f99ada",
            "2d43f6bda2724a3fb8a180fa919fc674",
            "d2c4d982d29847568842952109def2f1",
            "86b52383200340889d3216804dc88d96",
            "33d3683ed62040968a60924e84734916",
            "f8556869c7d9440dba2dc6f97c65acb7",
            "9faad68a1b28465991db53daa66fcf13",
            "9cc1af9a45734a41aa7e88697baf6751",
            "6b0c77e0d2b84a479395c85983f8b118",
            "eec8137af490497a9c0a292c7d09a8ad"
          ]
        },
        "id": "eP-zWbgs903y",
        "scrolled": true,
        "outputId": "8b8ce6f9-7e84-4af3-bff8-1418661941f7"
      },
      "outputs": [
        {
          "output_type": "display_data",
          "data": {
            "text/plain": [
              "  0%|          | 0/50 [00:00<?, ?it/s]"
            ],
            "application/vnd.jupyter.widget-view+json": {
              "version_major": 2,
              "version_minor": 0,
              "model_id": "c1be8a1d1ec94dff8bd4c0088b37029d"
            }
          },
          "metadata": {}
        }
      ],
      "source": [
        "for i in trange(50):\n",
        "    q2b_model.train_step(q2b_model, optimizer, train_path_iterator, args,i)"
      ]
    },
    {
      "cell_type": "code",
      "execution_count": 35,
      "metadata": {
        "id": "WGA5yu_i903y",
        "colab": {
          "base_uri": "https://localhost:8080/"
        },
        "outputId": "5f9300c0-cc90-4255-b3a1-adaa13929dea"
      },
      "outputs": [
        {
          "output_type": "stream",
          "name": "stdout",
          "text": [
            "Mexico\n",
            "Canada\n",
            "Belize\n",
            "Greenland\n",
            "Guatemala\n",
            "Dominion of Newfoundland\n",
            "United States of America\n",
            "Russia\n",
            "Georgia\n",
            "Laos\n"
          ]
        }
      ],
      "source": [
        "ans = predict_kg_reasoning(\n",
        "    q2b_model,\n",
        "    kg,\n",
        "    [kg.ent2ix['Canada'], kg.rel2ix['shares border with'], kg.ent2ix['Mexico'], kg.rel2ix['shares border with'], -1],\n",
        "    (('e', ('r',)), ('e', ('r',)), ('u',)), k=10, ix2ent=ix2ent)\n",
        "print('\\n'.join(ans))"
      ]
    },
    {
      "cell_type": "code",
      "execution_count": null,
      "metadata": {
        "id": "jCBJXaGh903y"
      },
      "outputs": [],
      "source": []
    }
  ],
  "metadata": {
    "celltoolbar": "Create Assignment",
    "colab": {
      "provenance": []
    },
    "kernelspec": {
      "display_name": "Python 3",
      "language": "python",
      "name": "python3"
    },
    "language_info": {
      "codemirror_mode": {
        "name": "ipython",
        "version": 3
      },
      "file_extension": ".py",
      "mimetype": "text/x-python",
      "name": "python",
      "nbconvert_exporter": "python",
      "pygments_lexer": "ipython3",
      "version": "3.7.4"
    },
    "widgets": {
      "application/vnd.jupyter.widget-state+json": {
        "2d9e6a3d2a704d6283242da3e4e48cc2": {
          "model_module": "@jupyter-widgets/controls",
          "model_name": "HBoxModel",
          "model_module_version": "1.5.0",
          "state": {
            "_dom_classes": [],
            "_model_module": "@jupyter-widgets/controls",
            "_model_module_version": "1.5.0",
            "_model_name": "HBoxModel",
            "_view_count": null,
            "_view_module": "@jupyter-widgets/controls",
            "_view_module_version": "1.5.0",
            "_view_name": "HBoxView",
            "box_style": "",
            "children": [
              "IPY_MODEL_ab245510e65d4d0b9fcadfca975ddd74",
              "IPY_MODEL_f580ff26a7864fedb165ac5ad946706d",
              "IPY_MODEL_e55dcdfadb2a4384ab72eb9ca4a21cc1"
            ],
            "layout": "IPY_MODEL_523cf0235d4a4656b61906999d0864fe"
          }
        },
        "ab245510e65d4d0b9fcadfca975ddd74": {
          "model_module": "@jupyter-widgets/controls",
          "model_name": "HTMLModel",
          "model_module_version": "1.5.0",
          "state": {
            "_dom_classes": [],
            "_model_module": "@jupyter-widgets/controls",
            "_model_module_version": "1.5.0",
            "_model_name": "HTMLModel",
            "_view_count": null,
            "_view_module": "@jupyter-widgets/controls",
            "_view_module_version": "1.5.0",
            "_view_name": "HTMLView",
            "description": "",
            "description_tooltip": null,
            "layout": "IPY_MODEL_5a459c4bedf5468f9c62b20fa10ec9d6",
            "placeholder": "​",
            "style": "IPY_MODEL_ac76748a52ec404487205e6d4b0b6473",
            "value": "Epoch 250 | mean loss: 25.44677: 100%"
          }
        },
        "f580ff26a7864fedb165ac5ad946706d": {
          "model_module": "@jupyter-widgets/controls",
          "model_name": "FloatProgressModel",
          "model_module_version": "1.5.0",
          "state": {
            "_dom_classes": [],
            "_model_module": "@jupyter-widgets/controls",
            "_model_module_version": "1.5.0",
            "_model_name": "FloatProgressModel",
            "_view_count": null,
            "_view_module": "@jupyter-widgets/controls",
            "_view_module_version": "1.5.0",
            "_view_name": "ProgressView",
            "bar_style": "success",
            "description": "",
            "description_tooltip": null,
            "layout": "IPY_MODEL_9e1e261e1203436ab258f67403be792f",
            "max": 250,
            "min": 0,
            "orientation": "horizontal",
            "style": "IPY_MODEL_9982b8da1b184dd59025d5a7e549afa0",
            "value": 250
          }
        },
        "e55dcdfadb2a4384ab72eb9ca4a21cc1": {
          "model_module": "@jupyter-widgets/controls",
          "model_name": "HTMLModel",
          "model_module_version": "1.5.0",
          "state": {
            "_dom_classes": [],
            "_model_module": "@jupyter-widgets/controls",
            "_model_module_version": "1.5.0",
            "_model_name": "HTMLModel",
            "_view_count": null,
            "_view_module": "@jupyter-widgets/controls",
            "_view_module_version": "1.5.0",
            "_view_name": "HTMLView",
            "description": "",
            "description_tooltip": null,
            "layout": "IPY_MODEL_85ff31b423e544629518f00b0192c14f",
            "placeholder": "​",
            "style": "IPY_MODEL_97a2490fc57441a3a39d3c985b5ecfa5",
            "value": " 250/250 [06:51&lt;00:00,  1.65s/epoch]"
          }
        },
        "523cf0235d4a4656b61906999d0864fe": {
          "model_module": "@jupyter-widgets/base",
          "model_name": "LayoutModel",
          "model_module_version": "1.2.0",
          "state": {
            "_model_module": "@jupyter-widgets/base",
            "_model_module_version": "1.2.0",
            "_model_name": "LayoutModel",
            "_view_count": null,
            "_view_module": "@jupyter-widgets/base",
            "_view_module_version": "1.2.0",
            "_view_name": "LayoutView",
            "align_content": null,
            "align_items": null,
            "align_self": null,
            "border": null,
            "bottom": null,
            "display": null,
            "flex": null,
            "flex_flow": null,
            "grid_area": null,
            "grid_auto_columns": null,
            "grid_auto_flow": null,
            "grid_auto_rows": null,
            "grid_column": null,
            "grid_gap": null,
            "grid_row": null,
            "grid_template_areas": null,
            "grid_template_columns": null,
            "grid_template_rows": null,
            "height": null,
            "justify_content": null,
            "justify_items": null,
            "left": null,
            "margin": null,
            "max_height": null,
            "max_width": null,
            "min_height": null,
            "min_width": null,
            "object_fit": null,
            "object_position": null,
            "order": null,
            "overflow": null,
            "overflow_x": null,
            "overflow_y": null,
            "padding": null,
            "right": null,
            "top": null,
            "visibility": null,
            "width": null
          }
        },
        "5a459c4bedf5468f9c62b20fa10ec9d6": {
          "model_module": "@jupyter-widgets/base",
          "model_name": "LayoutModel",
          "model_module_version": "1.2.0",
          "state": {
            "_model_module": "@jupyter-widgets/base",
            "_model_module_version": "1.2.0",
            "_model_name": "LayoutModel",
            "_view_count": null,
            "_view_module": "@jupyter-widgets/base",
            "_view_module_version": "1.2.0",
            "_view_name": "LayoutView",
            "align_content": null,
            "align_items": null,
            "align_self": null,
            "border": null,
            "bottom": null,
            "display": null,
            "flex": null,
            "flex_flow": null,
            "grid_area": null,
            "grid_auto_columns": null,
            "grid_auto_flow": null,
            "grid_auto_rows": null,
            "grid_column": null,
            "grid_gap": null,
            "grid_row": null,
            "grid_template_areas": null,
            "grid_template_columns": null,
            "grid_template_rows": null,
            "height": null,
            "justify_content": null,
            "justify_items": null,
            "left": null,
            "margin": null,
            "max_height": null,
            "max_width": null,
            "min_height": null,
            "min_width": null,
            "object_fit": null,
            "object_position": null,
            "order": null,
            "overflow": null,
            "overflow_x": null,
            "overflow_y": null,
            "padding": null,
            "right": null,
            "top": null,
            "visibility": null,
            "width": null
          }
        },
        "ac76748a52ec404487205e6d4b0b6473": {
          "model_module": "@jupyter-widgets/controls",
          "model_name": "DescriptionStyleModel",
          "model_module_version": "1.5.0",
          "state": {
            "_model_module": "@jupyter-widgets/controls",
            "_model_module_version": "1.5.0",
            "_model_name": "DescriptionStyleModel",
            "_view_count": null,
            "_view_module": "@jupyter-widgets/base",
            "_view_module_version": "1.2.0",
            "_view_name": "StyleView",
            "description_width": ""
          }
        },
        "9e1e261e1203436ab258f67403be792f": {
          "model_module": "@jupyter-widgets/base",
          "model_name": "LayoutModel",
          "model_module_version": "1.2.0",
          "state": {
            "_model_module": "@jupyter-widgets/base",
            "_model_module_version": "1.2.0",
            "_model_name": "LayoutModel",
            "_view_count": null,
            "_view_module": "@jupyter-widgets/base",
            "_view_module_version": "1.2.0",
            "_view_name": "LayoutView",
            "align_content": null,
            "align_items": null,
            "align_self": null,
            "border": null,
            "bottom": null,
            "display": null,
            "flex": null,
            "flex_flow": null,
            "grid_area": null,
            "grid_auto_columns": null,
            "grid_auto_flow": null,
            "grid_auto_rows": null,
            "grid_column": null,
            "grid_gap": null,
            "grid_row": null,
            "grid_template_areas": null,
            "grid_template_columns": null,
            "grid_template_rows": null,
            "height": null,
            "justify_content": null,
            "justify_items": null,
            "left": null,
            "margin": null,
            "max_height": null,
            "max_width": null,
            "min_height": null,
            "min_width": null,
            "object_fit": null,
            "object_position": null,
            "order": null,
            "overflow": null,
            "overflow_x": null,
            "overflow_y": null,
            "padding": null,
            "right": null,
            "top": null,
            "visibility": null,
            "width": null
          }
        },
        "9982b8da1b184dd59025d5a7e549afa0": {
          "model_module": "@jupyter-widgets/controls",
          "model_name": "ProgressStyleModel",
          "model_module_version": "1.5.0",
          "state": {
            "_model_module": "@jupyter-widgets/controls",
            "_model_module_version": "1.5.0",
            "_model_name": "ProgressStyleModel",
            "_view_count": null,
            "_view_module": "@jupyter-widgets/base",
            "_view_module_version": "1.2.0",
            "_view_name": "StyleView",
            "bar_color": null,
            "description_width": ""
          }
        },
        "85ff31b423e544629518f00b0192c14f": {
          "model_module": "@jupyter-widgets/base",
          "model_name": "LayoutModel",
          "model_module_version": "1.2.0",
          "state": {
            "_model_module": "@jupyter-widgets/base",
            "_model_module_version": "1.2.0",
            "_model_name": "LayoutModel",
            "_view_count": null,
            "_view_module": "@jupyter-widgets/base",
            "_view_module_version": "1.2.0",
            "_view_name": "LayoutView",
            "align_content": null,
            "align_items": null,
            "align_self": null,
            "border": null,
            "bottom": null,
            "display": null,
            "flex": null,
            "flex_flow": null,
            "grid_area": null,
            "grid_auto_columns": null,
            "grid_auto_flow": null,
            "grid_auto_rows": null,
            "grid_column": null,
            "grid_gap": null,
            "grid_row": null,
            "grid_template_areas": null,
            "grid_template_columns": null,
            "grid_template_rows": null,
            "height": null,
            "justify_content": null,
            "justify_items": null,
            "left": null,
            "margin": null,
            "max_height": null,
            "max_width": null,
            "min_height": null,
            "min_width": null,
            "object_fit": null,
            "object_position": null,
            "order": null,
            "overflow": null,
            "overflow_x": null,
            "overflow_y": null,
            "padding": null,
            "right": null,
            "top": null,
            "visibility": null,
            "width": null
          }
        },
        "97a2490fc57441a3a39d3c985b5ecfa5": {
          "model_module": "@jupyter-widgets/controls",
          "model_name": "DescriptionStyleModel",
          "model_module_version": "1.5.0",
          "state": {
            "_model_module": "@jupyter-widgets/controls",
            "_model_module_version": "1.5.0",
            "_model_name": "DescriptionStyleModel",
            "_view_count": null,
            "_view_module": "@jupyter-widgets/base",
            "_view_module_version": "1.2.0",
            "_view_name": "StyleView",
            "description_width": ""
          }
        },
        "63201445671c4bc8a5f7006bdb057413": {
          "model_module": "@jupyter-widgets/controls",
          "model_name": "HBoxModel",
          "model_module_version": "1.5.0",
          "state": {
            "_dom_classes": [],
            "_model_module": "@jupyter-widgets/controls",
            "_model_module_version": "1.5.0",
            "_model_name": "HBoxModel",
            "_view_count": null,
            "_view_module": "@jupyter-widgets/controls",
            "_view_module_version": "1.5.0",
            "_view_name": "HBoxView",
            "box_style": "",
            "children": [
              "IPY_MODEL_21da428510ff4059a010445994456870",
              "IPY_MODEL_0c1789a4dfca4bbe9011b2024a0ae434",
              "IPY_MODEL_f4575442dcb54c94b938f27ed82dffb5"
            ],
            "layout": "IPY_MODEL_b8232584b97b474782b1c005f58ad15c"
          }
        },
        "21da428510ff4059a010445994456870": {
          "model_module": "@jupyter-widgets/controls",
          "model_name": "HTMLModel",
          "model_module_version": "1.5.0",
          "state": {
            "_dom_classes": [],
            "_model_module": "@jupyter-widgets/controls",
            "_model_module_version": "1.5.0",
            "_model_name": "HTMLModel",
            "_view_count": null,
            "_view_module": "@jupyter-widgets/controls",
            "_view_module_version": "1.5.0",
            "_view_name": "HTMLView",
            "description": "",
            "description_tooltip": null,
            "layout": "IPY_MODEL_b9693ce43f9a49318f13e078ed3fbddd",
            "placeholder": "​",
            "style": "IPY_MODEL_a66c0b7175bb4285a12ba34fae5b9b36",
            "value": "100%"
          }
        },
        "0c1789a4dfca4bbe9011b2024a0ae434": {
          "model_module": "@jupyter-widgets/controls",
          "model_name": "FloatProgressModel",
          "model_module_version": "1.5.0",
          "state": {
            "_dom_classes": [],
            "_model_module": "@jupyter-widgets/controls",
            "_model_module_version": "1.5.0",
            "_model_name": "FloatProgressModel",
            "_view_count": null,
            "_view_module": "@jupyter-widgets/controls",
            "_view_module_version": "1.5.0",
            "_view_name": "ProgressView",
            "bar_style": "success",
            "description": "",
            "description_tooltip": null,
            "layout": "IPY_MODEL_8d75285c79f14a74a2c52c92478d46fd",
            "max": 50,
            "min": 0,
            "orientation": "horizontal",
            "style": "IPY_MODEL_bb3e0fd8e90e46568b8e910db2aa886d",
            "value": 50
          }
        },
        "f4575442dcb54c94b938f27ed82dffb5": {
          "model_module": "@jupyter-widgets/controls",
          "model_name": "HTMLModel",
          "model_module_version": "1.5.0",
          "state": {
            "_dom_classes": [],
            "_model_module": "@jupyter-widgets/controls",
            "_model_module_version": "1.5.0",
            "_model_name": "HTMLModel",
            "_view_count": null,
            "_view_module": "@jupyter-widgets/controls",
            "_view_module_version": "1.5.0",
            "_view_name": "HTMLView",
            "description": "",
            "description_tooltip": null,
            "layout": "IPY_MODEL_d68c9ecf449e40188a0b6a85329f4661",
            "placeholder": "​",
            "style": "IPY_MODEL_6a08ea4f01eb400598dede421395e802",
            "value": " 50/50 [00:39&lt;00:00,  1.39it/s]"
          }
        },
        "b8232584b97b474782b1c005f58ad15c": {
          "model_module": "@jupyter-widgets/base",
          "model_name": "LayoutModel",
          "model_module_version": "1.2.0",
          "state": {
            "_model_module": "@jupyter-widgets/base",
            "_model_module_version": "1.2.0",
            "_model_name": "LayoutModel",
            "_view_count": null,
            "_view_module": "@jupyter-widgets/base",
            "_view_module_version": "1.2.0",
            "_view_name": "LayoutView",
            "align_content": null,
            "align_items": null,
            "align_self": null,
            "border": null,
            "bottom": null,
            "display": null,
            "flex": null,
            "flex_flow": null,
            "grid_area": null,
            "grid_auto_columns": null,
            "grid_auto_flow": null,
            "grid_auto_rows": null,
            "grid_column": null,
            "grid_gap": null,
            "grid_row": null,
            "grid_template_areas": null,
            "grid_template_columns": null,
            "grid_template_rows": null,
            "height": null,
            "justify_content": null,
            "justify_items": null,
            "left": null,
            "margin": null,
            "max_height": null,
            "max_width": null,
            "min_height": null,
            "min_width": null,
            "object_fit": null,
            "object_position": null,
            "order": null,
            "overflow": null,
            "overflow_x": null,
            "overflow_y": null,
            "padding": null,
            "right": null,
            "top": null,
            "visibility": null,
            "width": null
          }
        },
        "b9693ce43f9a49318f13e078ed3fbddd": {
          "model_module": "@jupyter-widgets/base",
          "model_name": "LayoutModel",
          "model_module_version": "1.2.0",
          "state": {
            "_model_module": "@jupyter-widgets/base",
            "_model_module_version": "1.2.0",
            "_model_name": "LayoutModel",
            "_view_count": null,
            "_view_module": "@jupyter-widgets/base",
            "_view_module_version": "1.2.0",
            "_view_name": "LayoutView",
            "align_content": null,
            "align_items": null,
            "align_self": null,
            "border": null,
            "bottom": null,
            "display": null,
            "flex": null,
            "flex_flow": null,
            "grid_area": null,
            "grid_auto_columns": null,
            "grid_auto_flow": null,
            "grid_auto_rows": null,
            "grid_column": null,
            "grid_gap": null,
            "grid_row": null,
            "grid_template_areas": null,
            "grid_template_columns": null,
            "grid_template_rows": null,
            "height": null,
            "justify_content": null,
            "justify_items": null,
            "left": null,
            "margin": null,
            "max_height": null,
            "max_width": null,
            "min_height": null,
            "min_width": null,
            "object_fit": null,
            "object_position": null,
            "order": null,
            "overflow": null,
            "overflow_x": null,
            "overflow_y": null,
            "padding": null,
            "right": null,
            "top": null,
            "visibility": null,
            "width": null
          }
        },
        "a66c0b7175bb4285a12ba34fae5b9b36": {
          "model_module": "@jupyter-widgets/controls",
          "model_name": "DescriptionStyleModel",
          "model_module_version": "1.5.0",
          "state": {
            "_model_module": "@jupyter-widgets/controls",
            "_model_module_version": "1.5.0",
            "_model_name": "DescriptionStyleModel",
            "_view_count": null,
            "_view_module": "@jupyter-widgets/base",
            "_view_module_version": "1.2.0",
            "_view_name": "StyleView",
            "description_width": ""
          }
        },
        "8d75285c79f14a74a2c52c92478d46fd": {
          "model_module": "@jupyter-widgets/base",
          "model_name": "LayoutModel",
          "model_module_version": "1.2.0",
          "state": {
            "_model_module": "@jupyter-widgets/base",
            "_model_module_version": "1.2.0",
            "_model_name": "LayoutModel",
            "_view_count": null,
            "_view_module": "@jupyter-widgets/base",
            "_view_module_version": "1.2.0",
            "_view_name": "LayoutView",
            "align_content": null,
            "align_items": null,
            "align_self": null,
            "border": null,
            "bottom": null,
            "display": null,
            "flex": null,
            "flex_flow": null,
            "grid_area": null,
            "grid_auto_columns": null,
            "grid_auto_flow": null,
            "grid_auto_rows": null,
            "grid_column": null,
            "grid_gap": null,
            "grid_row": null,
            "grid_template_areas": null,
            "grid_template_columns": null,
            "grid_template_rows": null,
            "height": null,
            "justify_content": null,
            "justify_items": null,
            "left": null,
            "margin": null,
            "max_height": null,
            "max_width": null,
            "min_height": null,
            "min_width": null,
            "object_fit": null,
            "object_position": null,
            "order": null,
            "overflow": null,
            "overflow_x": null,
            "overflow_y": null,
            "padding": null,
            "right": null,
            "top": null,
            "visibility": null,
            "width": null
          }
        },
        "bb3e0fd8e90e46568b8e910db2aa886d": {
          "model_module": "@jupyter-widgets/controls",
          "model_name": "ProgressStyleModel",
          "model_module_version": "1.5.0",
          "state": {
            "_model_module": "@jupyter-widgets/controls",
            "_model_module_version": "1.5.0",
            "_model_name": "ProgressStyleModel",
            "_view_count": null,
            "_view_module": "@jupyter-widgets/base",
            "_view_module_version": "1.2.0",
            "_view_name": "StyleView",
            "bar_color": null,
            "description_width": ""
          }
        },
        "d68c9ecf449e40188a0b6a85329f4661": {
          "model_module": "@jupyter-widgets/base",
          "model_name": "LayoutModel",
          "model_module_version": "1.2.0",
          "state": {
            "_model_module": "@jupyter-widgets/base",
            "_model_module_version": "1.2.0",
            "_model_name": "LayoutModel",
            "_view_count": null,
            "_view_module": "@jupyter-widgets/base",
            "_view_module_version": "1.2.0",
            "_view_name": "LayoutView",
            "align_content": null,
            "align_items": null,
            "align_self": null,
            "border": null,
            "bottom": null,
            "display": null,
            "flex": null,
            "flex_flow": null,
            "grid_area": null,
            "grid_auto_columns": null,
            "grid_auto_flow": null,
            "grid_auto_rows": null,
            "grid_column": null,
            "grid_gap": null,
            "grid_row": null,
            "grid_template_areas": null,
            "grid_template_columns": null,
            "grid_template_rows": null,
            "height": null,
            "justify_content": null,
            "justify_items": null,
            "left": null,
            "margin": null,
            "max_height": null,
            "max_width": null,
            "min_height": null,
            "min_width": null,
            "object_fit": null,
            "object_position": null,
            "order": null,
            "overflow": null,
            "overflow_x": null,
            "overflow_y": null,
            "padding": null,
            "right": null,
            "top": null,
            "visibility": null,
            "width": null
          }
        },
        "6a08ea4f01eb400598dede421395e802": {
          "model_module": "@jupyter-widgets/controls",
          "model_name": "DescriptionStyleModel",
          "model_module_version": "1.5.0",
          "state": {
            "_model_module": "@jupyter-widgets/controls",
            "_model_module_version": "1.5.0",
            "_model_name": "DescriptionStyleModel",
            "_view_count": null,
            "_view_module": "@jupyter-widgets/base",
            "_view_module_version": "1.2.0",
            "_view_name": "StyleView",
            "description_width": ""
          }
        },
        "1e140c08acae4ef59b0d7331e3d34298": {
          "model_module": "@jupyter-widgets/controls",
          "model_name": "HBoxModel",
          "model_module_version": "1.5.0",
          "state": {
            "_dom_classes": [],
            "_model_module": "@jupyter-widgets/controls",
            "_model_module_version": "1.5.0",
            "_model_name": "HBoxModel",
            "_view_count": null,
            "_view_module": "@jupyter-widgets/controls",
            "_view_module_version": "1.5.0",
            "_view_name": "HBoxView",
            "box_style": "",
            "children": [
              "IPY_MODEL_169a1dc3778148078e2bf1515b67663d",
              "IPY_MODEL_28feebf59aef45e187aca8b3231859d6",
              "IPY_MODEL_fc9799ff5cd54dfe9bf14df95b6258c5"
            ],
            "layout": "IPY_MODEL_04f46f363f7f4ca993f77a7e8a1fce28"
          }
        },
        "169a1dc3778148078e2bf1515b67663d": {
          "model_module": "@jupyter-widgets/controls",
          "model_name": "HTMLModel",
          "model_module_version": "1.5.0",
          "state": {
            "_dom_classes": [],
            "_model_module": "@jupyter-widgets/controls",
            "_model_module_version": "1.5.0",
            "_model_name": "HTMLModel",
            "_view_count": null,
            "_view_module": "@jupyter-widgets/controls",
            "_view_module_version": "1.5.0",
            "_view_name": "HTMLView",
            "description": "",
            "description_tooltip": null,
            "layout": "IPY_MODEL_d28527f7d4e24a69bb3f87ec294ccb11",
            "placeholder": "​",
            "style": "IPY_MODEL_10f6e704c6ff4c1c98fe5e1e8b17dc15",
            "value": "100%"
          }
        },
        "28feebf59aef45e187aca8b3231859d6": {
          "model_module": "@jupyter-widgets/controls",
          "model_name": "FloatProgressModel",
          "model_module_version": "1.5.0",
          "state": {
            "_dom_classes": [],
            "_model_module": "@jupyter-widgets/controls",
            "_model_module_version": "1.5.0",
            "_model_name": "FloatProgressModel",
            "_view_count": null,
            "_view_module": "@jupyter-widgets/controls",
            "_view_module_version": "1.5.0",
            "_view_name": "ProgressView",
            "bar_style": "success",
            "description": "",
            "description_tooltip": null,
            "layout": "IPY_MODEL_28c31977a936488b9df30df644f7d0df",
            "max": 500,
            "min": 0,
            "orientation": "horizontal",
            "style": "IPY_MODEL_bfac4cd80c91449b881f5a4c294c9fc1",
            "value": 500
          }
        },
        "fc9799ff5cd54dfe9bf14df95b6258c5": {
          "model_module": "@jupyter-widgets/controls",
          "model_name": "HTMLModel",
          "model_module_version": "1.5.0",
          "state": {
            "_dom_classes": [],
            "_model_module": "@jupyter-widgets/controls",
            "_model_module_version": "1.5.0",
            "_model_name": "HTMLModel",
            "_view_count": null,
            "_view_module": "@jupyter-widgets/controls",
            "_view_module_version": "1.5.0",
            "_view_name": "HTMLView",
            "description": "",
            "description_tooltip": null,
            "layout": "IPY_MODEL_9e02305f78e2460fb3fd69c33090b85c",
            "placeholder": "​",
            "style": "IPY_MODEL_59b306b4281f4d958a2ebfb626737f42",
            "value": " 500/500 [00:14&lt;00:00, 36.39it/s]"
          }
        },
        "04f46f363f7f4ca993f77a7e8a1fce28": {
          "model_module": "@jupyter-widgets/base",
          "model_name": "LayoutModel",
          "model_module_version": "1.2.0",
          "state": {
            "_model_module": "@jupyter-widgets/base",
            "_model_module_version": "1.2.0",
            "_model_name": "LayoutModel",
            "_view_count": null,
            "_view_module": "@jupyter-widgets/base",
            "_view_module_version": "1.2.0",
            "_view_name": "LayoutView",
            "align_content": null,
            "align_items": null,
            "align_self": null,
            "border": null,
            "bottom": null,
            "display": null,
            "flex": null,
            "flex_flow": null,
            "grid_area": null,
            "grid_auto_columns": null,
            "grid_auto_flow": null,
            "grid_auto_rows": null,
            "grid_column": null,
            "grid_gap": null,
            "grid_row": null,
            "grid_template_areas": null,
            "grid_template_columns": null,
            "grid_template_rows": null,
            "height": null,
            "justify_content": null,
            "justify_items": null,
            "left": null,
            "margin": null,
            "max_height": null,
            "max_width": null,
            "min_height": null,
            "min_width": null,
            "object_fit": null,
            "object_position": null,
            "order": null,
            "overflow": null,
            "overflow_x": null,
            "overflow_y": null,
            "padding": null,
            "right": null,
            "top": null,
            "visibility": null,
            "width": null
          }
        },
        "d28527f7d4e24a69bb3f87ec294ccb11": {
          "model_module": "@jupyter-widgets/base",
          "model_name": "LayoutModel",
          "model_module_version": "1.2.0",
          "state": {
            "_model_module": "@jupyter-widgets/base",
            "_model_module_version": "1.2.0",
            "_model_name": "LayoutModel",
            "_view_count": null,
            "_view_module": "@jupyter-widgets/base",
            "_view_module_version": "1.2.0",
            "_view_name": "LayoutView",
            "align_content": null,
            "align_items": null,
            "align_self": null,
            "border": null,
            "bottom": null,
            "display": null,
            "flex": null,
            "flex_flow": null,
            "grid_area": null,
            "grid_auto_columns": null,
            "grid_auto_flow": null,
            "grid_auto_rows": null,
            "grid_column": null,
            "grid_gap": null,
            "grid_row": null,
            "grid_template_areas": null,
            "grid_template_columns": null,
            "grid_template_rows": null,
            "height": null,
            "justify_content": null,
            "justify_items": null,
            "left": null,
            "margin": null,
            "max_height": null,
            "max_width": null,
            "min_height": null,
            "min_width": null,
            "object_fit": null,
            "object_position": null,
            "order": null,
            "overflow": null,
            "overflow_x": null,
            "overflow_y": null,
            "padding": null,
            "right": null,
            "top": null,
            "visibility": null,
            "width": null
          }
        },
        "10f6e704c6ff4c1c98fe5e1e8b17dc15": {
          "model_module": "@jupyter-widgets/controls",
          "model_name": "DescriptionStyleModel",
          "model_module_version": "1.5.0",
          "state": {
            "_model_module": "@jupyter-widgets/controls",
            "_model_module_version": "1.5.0",
            "_model_name": "DescriptionStyleModel",
            "_view_count": null,
            "_view_module": "@jupyter-widgets/base",
            "_view_module_version": "1.2.0",
            "_view_name": "StyleView",
            "description_width": ""
          }
        },
        "28c31977a936488b9df30df644f7d0df": {
          "model_module": "@jupyter-widgets/base",
          "model_name": "LayoutModel",
          "model_module_version": "1.2.0",
          "state": {
            "_model_module": "@jupyter-widgets/base",
            "_model_module_version": "1.2.0",
            "_model_name": "LayoutModel",
            "_view_count": null,
            "_view_module": "@jupyter-widgets/base",
            "_view_module_version": "1.2.0",
            "_view_name": "LayoutView",
            "align_content": null,
            "align_items": null,
            "align_self": null,
            "border": null,
            "bottom": null,
            "display": null,
            "flex": null,
            "flex_flow": null,
            "grid_area": null,
            "grid_auto_columns": null,
            "grid_auto_flow": null,
            "grid_auto_rows": null,
            "grid_column": null,
            "grid_gap": null,
            "grid_row": null,
            "grid_template_areas": null,
            "grid_template_columns": null,
            "grid_template_rows": null,
            "height": null,
            "justify_content": null,
            "justify_items": null,
            "left": null,
            "margin": null,
            "max_height": null,
            "max_width": null,
            "min_height": null,
            "min_width": null,
            "object_fit": null,
            "object_position": null,
            "order": null,
            "overflow": null,
            "overflow_x": null,
            "overflow_y": null,
            "padding": null,
            "right": null,
            "top": null,
            "visibility": null,
            "width": null
          }
        },
        "bfac4cd80c91449b881f5a4c294c9fc1": {
          "model_module": "@jupyter-widgets/controls",
          "model_name": "ProgressStyleModel",
          "model_module_version": "1.5.0",
          "state": {
            "_model_module": "@jupyter-widgets/controls",
            "_model_module_version": "1.5.0",
            "_model_name": "ProgressStyleModel",
            "_view_count": null,
            "_view_module": "@jupyter-widgets/base",
            "_view_module_version": "1.2.0",
            "_view_name": "StyleView",
            "bar_color": null,
            "description_width": ""
          }
        },
        "9e02305f78e2460fb3fd69c33090b85c": {
          "model_module": "@jupyter-widgets/base",
          "model_name": "LayoutModel",
          "model_module_version": "1.2.0",
          "state": {
            "_model_module": "@jupyter-widgets/base",
            "_model_module_version": "1.2.0",
            "_model_name": "LayoutModel",
            "_view_count": null,
            "_view_module": "@jupyter-widgets/base",
            "_view_module_version": "1.2.0",
            "_view_name": "LayoutView",
            "align_content": null,
            "align_items": null,
            "align_self": null,
            "border": null,
            "bottom": null,
            "display": null,
            "flex": null,
            "flex_flow": null,
            "grid_area": null,
            "grid_auto_columns": null,
            "grid_auto_flow": null,
            "grid_auto_rows": null,
            "grid_column": null,
            "grid_gap": null,
            "grid_row": null,
            "grid_template_areas": null,
            "grid_template_columns": null,
            "grid_template_rows": null,
            "height": null,
            "justify_content": null,
            "justify_items": null,
            "left": null,
            "margin": null,
            "max_height": null,
            "max_width": null,
            "min_height": null,
            "min_width": null,
            "object_fit": null,
            "object_position": null,
            "order": null,
            "overflow": null,
            "overflow_x": null,
            "overflow_y": null,
            "padding": null,
            "right": null,
            "top": null,
            "visibility": null,
            "width": null
          }
        },
        "59b306b4281f4d958a2ebfb626737f42": {
          "model_module": "@jupyter-widgets/controls",
          "model_name": "DescriptionStyleModel",
          "model_module_version": "1.5.0",
          "state": {
            "_model_module": "@jupyter-widgets/controls",
            "_model_module_version": "1.5.0",
            "_model_name": "DescriptionStyleModel",
            "_view_count": null,
            "_view_module": "@jupyter-widgets/base",
            "_view_module_version": "1.2.0",
            "_view_name": "StyleView",
            "description_width": ""
          }
        },
        "c1be8a1d1ec94dff8bd4c0088b37029d": {
          "model_module": "@jupyter-widgets/controls",
          "model_name": "HBoxModel",
          "model_module_version": "1.5.0",
          "state": {
            "_dom_classes": [],
            "_model_module": "@jupyter-widgets/controls",
            "_model_module_version": "1.5.0",
            "_model_name": "HBoxModel",
            "_view_count": null,
            "_view_module": "@jupyter-widgets/controls",
            "_view_module_version": "1.5.0",
            "_view_name": "HBoxView",
            "box_style": "",
            "children": [
              "IPY_MODEL_278b5fff61ee4e15a88fbdf4c4f99ada",
              "IPY_MODEL_2d43f6bda2724a3fb8a180fa919fc674",
              "IPY_MODEL_d2c4d982d29847568842952109def2f1"
            ],
            "layout": "IPY_MODEL_86b52383200340889d3216804dc88d96"
          }
        },
        "278b5fff61ee4e15a88fbdf4c4f99ada": {
          "model_module": "@jupyter-widgets/controls",
          "model_name": "HTMLModel",
          "model_module_version": "1.5.0",
          "state": {
            "_dom_classes": [],
            "_model_module": "@jupyter-widgets/controls",
            "_model_module_version": "1.5.0",
            "_model_name": "HTMLModel",
            "_view_count": null,
            "_view_module": "@jupyter-widgets/controls",
            "_view_module_version": "1.5.0",
            "_view_name": "HTMLView",
            "description": "",
            "description_tooltip": null,
            "layout": "IPY_MODEL_33d3683ed62040968a60924e84734916",
            "placeholder": "​",
            "style": "IPY_MODEL_f8556869c7d9440dba2dc6f97c65acb7",
            "value": "100%"
          }
        },
        "2d43f6bda2724a3fb8a180fa919fc674": {
          "model_module": "@jupyter-widgets/controls",
          "model_name": "FloatProgressModel",
          "model_module_version": "1.5.0",
          "state": {
            "_dom_classes": [],
            "_model_module": "@jupyter-widgets/controls",
            "_model_module_version": "1.5.0",
            "_model_name": "FloatProgressModel",
            "_view_count": null,
            "_view_module": "@jupyter-widgets/controls",
            "_view_module_version": "1.5.0",
            "_view_name": "ProgressView",
            "bar_style": "success",
            "description": "",
            "description_tooltip": null,
            "layout": "IPY_MODEL_9faad68a1b28465991db53daa66fcf13",
            "max": 50,
            "min": 0,
            "orientation": "horizontal",
            "style": "IPY_MODEL_9cc1af9a45734a41aa7e88697baf6751",
            "value": 50
          }
        },
        "d2c4d982d29847568842952109def2f1": {
          "model_module": "@jupyter-widgets/controls",
          "model_name": "HTMLModel",
          "model_module_version": "1.5.0",
          "state": {
            "_dom_classes": [],
            "_model_module": "@jupyter-widgets/controls",
            "_model_module_version": "1.5.0",
            "_model_name": "HTMLModel",
            "_view_count": null,
            "_view_module": "@jupyter-widgets/controls",
            "_view_module_version": "1.5.0",
            "_view_name": "HTMLView",
            "description": "",
            "description_tooltip": null,
            "layout": "IPY_MODEL_6b0c77e0d2b84a479395c85983f8b118",
            "placeholder": "​",
            "style": "IPY_MODEL_eec8137af490497a9c0a292c7d09a8ad",
            "value": " 50/50 [03:42&lt;00:00,  4.45s/it]"
          }
        },
        "86b52383200340889d3216804dc88d96": {
          "model_module": "@jupyter-widgets/base",
          "model_name": "LayoutModel",
          "model_module_version": "1.2.0",
          "state": {
            "_model_module": "@jupyter-widgets/base",
            "_model_module_version": "1.2.0",
            "_model_name": "LayoutModel",
            "_view_count": null,
            "_view_module": "@jupyter-widgets/base",
            "_view_module_version": "1.2.0",
            "_view_name": "LayoutView",
            "align_content": null,
            "align_items": null,
            "align_self": null,
            "border": null,
            "bottom": null,
            "display": null,
            "flex": null,
            "flex_flow": null,
            "grid_area": null,
            "grid_auto_columns": null,
            "grid_auto_flow": null,
            "grid_auto_rows": null,
            "grid_column": null,
            "grid_gap": null,
            "grid_row": null,
            "grid_template_areas": null,
            "grid_template_columns": null,
            "grid_template_rows": null,
            "height": null,
            "justify_content": null,
            "justify_items": null,
            "left": null,
            "margin": null,
            "max_height": null,
            "max_width": null,
            "min_height": null,
            "min_width": null,
            "object_fit": null,
            "object_position": null,
            "order": null,
            "overflow": null,
            "overflow_x": null,
            "overflow_y": null,
            "padding": null,
            "right": null,
            "top": null,
            "visibility": null,
            "width": null
          }
        },
        "33d3683ed62040968a60924e84734916": {
          "model_module": "@jupyter-widgets/base",
          "model_name": "LayoutModel",
          "model_module_version": "1.2.0",
          "state": {
            "_model_module": "@jupyter-widgets/base",
            "_model_module_version": "1.2.0",
            "_model_name": "LayoutModel",
            "_view_count": null,
            "_view_module": "@jupyter-widgets/base",
            "_view_module_version": "1.2.0",
            "_view_name": "LayoutView",
            "align_content": null,
            "align_items": null,
            "align_self": null,
            "border": null,
            "bottom": null,
            "display": null,
            "flex": null,
            "flex_flow": null,
            "grid_area": null,
            "grid_auto_columns": null,
            "grid_auto_flow": null,
            "grid_auto_rows": null,
            "grid_column": null,
            "grid_gap": null,
            "grid_row": null,
            "grid_template_areas": null,
            "grid_template_columns": null,
            "grid_template_rows": null,
            "height": null,
            "justify_content": null,
            "justify_items": null,
            "left": null,
            "margin": null,
            "max_height": null,
            "max_width": null,
            "min_height": null,
            "min_width": null,
            "object_fit": null,
            "object_position": null,
            "order": null,
            "overflow": null,
            "overflow_x": null,
            "overflow_y": null,
            "padding": null,
            "right": null,
            "top": null,
            "visibility": null,
            "width": null
          }
        },
        "f8556869c7d9440dba2dc6f97c65acb7": {
          "model_module": "@jupyter-widgets/controls",
          "model_name": "DescriptionStyleModel",
          "model_module_version": "1.5.0",
          "state": {
            "_model_module": "@jupyter-widgets/controls",
            "_model_module_version": "1.5.0",
            "_model_name": "DescriptionStyleModel",
            "_view_count": null,
            "_view_module": "@jupyter-widgets/base",
            "_view_module_version": "1.2.0",
            "_view_name": "StyleView",
            "description_width": ""
          }
        },
        "9faad68a1b28465991db53daa66fcf13": {
          "model_module": "@jupyter-widgets/base",
          "model_name": "LayoutModel",
          "model_module_version": "1.2.0",
          "state": {
            "_model_module": "@jupyter-widgets/base",
            "_model_module_version": "1.2.0",
            "_model_name": "LayoutModel",
            "_view_count": null,
            "_view_module": "@jupyter-widgets/base",
            "_view_module_version": "1.2.0",
            "_view_name": "LayoutView",
            "align_content": null,
            "align_items": null,
            "align_self": null,
            "border": null,
            "bottom": null,
            "display": null,
            "flex": null,
            "flex_flow": null,
            "grid_area": null,
            "grid_auto_columns": null,
            "grid_auto_flow": null,
            "grid_auto_rows": null,
            "grid_column": null,
            "grid_gap": null,
            "grid_row": null,
            "grid_template_areas": null,
            "grid_template_columns": null,
            "grid_template_rows": null,
            "height": null,
            "justify_content": null,
            "justify_items": null,
            "left": null,
            "margin": null,
            "max_height": null,
            "max_width": null,
            "min_height": null,
            "min_width": null,
            "object_fit": null,
            "object_position": null,
            "order": null,
            "overflow": null,
            "overflow_x": null,
            "overflow_y": null,
            "padding": null,
            "right": null,
            "top": null,
            "visibility": null,
            "width": null
          }
        },
        "9cc1af9a45734a41aa7e88697baf6751": {
          "model_module": "@jupyter-widgets/controls",
          "model_name": "ProgressStyleModel",
          "model_module_version": "1.5.0",
          "state": {
            "_model_module": "@jupyter-widgets/controls",
            "_model_module_version": "1.5.0",
            "_model_name": "ProgressStyleModel",
            "_view_count": null,
            "_view_module": "@jupyter-widgets/base",
            "_view_module_version": "1.2.0",
            "_view_name": "StyleView",
            "bar_color": null,
            "description_width": ""
          }
        },
        "6b0c77e0d2b84a479395c85983f8b118": {
          "model_module": "@jupyter-widgets/base",
          "model_name": "LayoutModel",
          "model_module_version": "1.2.0",
          "state": {
            "_model_module": "@jupyter-widgets/base",
            "_model_module_version": "1.2.0",
            "_model_name": "LayoutModel",
            "_view_count": null,
            "_view_module": "@jupyter-widgets/base",
            "_view_module_version": "1.2.0",
            "_view_name": "LayoutView",
            "align_content": null,
            "align_items": null,
            "align_self": null,
            "border": null,
            "bottom": null,
            "display": null,
            "flex": null,
            "flex_flow": null,
            "grid_area": null,
            "grid_auto_columns": null,
            "grid_auto_flow": null,
            "grid_auto_rows": null,
            "grid_column": null,
            "grid_gap": null,
            "grid_row": null,
            "grid_template_areas": null,
            "grid_template_columns": null,
            "grid_template_rows": null,
            "height": null,
            "justify_content": null,
            "justify_items": null,
            "left": null,
            "margin": null,
            "max_height": null,
            "max_width": null,
            "min_height": null,
            "min_width": null,
            "object_fit": null,
            "object_position": null,
            "order": null,
            "overflow": null,
            "overflow_x": null,
            "overflow_y": null,
            "padding": null,
            "right": null,
            "top": null,
            "visibility": null,
            "width": null
          }
        },
        "eec8137af490497a9c0a292c7d09a8ad": {
          "model_module": "@jupyter-widgets/controls",
          "model_name": "DescriptionStyleModel",
          "model_module_version": "1.5.0",
          "state": {
            "_model_module": "@jupyter-widgets/controls",
            "_model_module_version": "1.5.0",
            "_model_name": "DescriptionStyleModel",
            "_view_count": null,
            "_view_module": "@jupyter-widgets/base",
            "_view_module_version": "1.2.0",
            "_view_name": "StyleView",
            "description_width": ""
          }
        }
      }
    }
  },
  "nbformat": 4,
  "nbformat_minor": 0
}