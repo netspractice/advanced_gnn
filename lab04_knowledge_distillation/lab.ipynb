{
  "cells": [
    {
      "cell_type": "markdown",
      "metadata": {
        "id": "vjc5y4FTdfGP"
      },
      "source": [
        "# Lab — Knowledge distillation for GNN"
      ]
    },
    {
      "cell_type": "markdown",
      "metadata": {
        "id": "cBGenkXwOuJv"
      },
      "source": [
        "<img src='https://raw.githubusercontent.com/netspractice/advanced_gnn/main/lab04_knowledge_distillation/LSP_scheme.png' width=900>\n",
        "\n",
        "source: https://arxiv.org/abs/2003.10477\n",
        "\n",
        "To enable the knowledge transfer from the teacher GCN to the student, there is a local structure preserving (LSP) module that explicitly accounts for the topological semantics of the teacher. In this module, the local structure information from both the teacher and the student are extracted as distributions, and hence minimizing the distance between these distributions enables topology-aware knowledge transfer from the teacher, yielding a compact yet highperformance student model."
      ]
    },
    {
      "cell_type": "markdown",
      "metadata": {
        "id": "KS5BIc4oePZ_"
      },
      "source": [
        "### Prepare dataloader"
      ]
    },
    {
      "cell_type": "markdown",
      "metadata": {
        "id": "ojTymOYiQTPb"
      },
      "source": [
        "In the first, step we download protein-protein interaction (PPI) dataset of graphs that come from the human tissues. There are 121 classes, each node can be assigned to more than one class that can be represented as multilabel classification problem. Node features are motif gene sets and immunological signatures."
      ]
    },
    {
      "cell_type": "code",
      "execution_count": 1,
      "metadata": {
        "id": "zw5Xa6kkjTV9"
      },
      "outputs": [],
      "source": [
        "!pip install dgl-cu111 -f https://data.dgl.ai/wheels/repo.html -q"
      ]
    },
    {
      "cell_type": "code",
      "execution_count": 108,
      "metadata": {
        "id": "dM70azUdjOjs"
      },
      "outputs": [],
      "source": [
        "import dgl\n",
        "from dgl.data.ppi import LegacyPPIDataset as PPIDataset\n",
        "import dgl.function as fn\n",
        "from dgl.nn.functional import edge_softmax\n",
        "\n",
        "import torch\n",
        "import torch.nn as nn\n",
        "import torch.nn.functional as F\n",
        "from torch.utils.data import DataLoader\n",
        "from torch.optim import Adam\n",
        "\n",
        "import matplotlib.pyplot as plt\n",
        "import numpy as np\n",
        "from sklearn.metrics import f1_score\n",
        "\n",
        "from IPython.display import clear_output"
      ]
    },
    {
      "cell_type": "markdown",
      "metadata": {
        "id": "l8Qw8HqQUb4Y"
      },
      "source": [
        "Check the number of graphs"
      ]
    },
    {
      "cell_type": "code",
      "execution_count": 109,
      "metadata": {
        "colab": {
          "base_uri": "https://localhost:8080/"
        },
        "id": "KZme0ys_jNMt",
        "outputId": "a0ad5706-9698-4047-f730-3771ac75ae5b"
      },
      "outputs": [
        {
          "data": {
            "text/plain": [
              "(20, 2, 2)"
            ]
          },
          "execution_count": 109,
          "metadata": {},
          "output_type": "execute_result"
        }
      ],
      "source": [
        "train_dataset = PPIDataset(mode='train')\n",
        "valid_dataset = PPIDataset(mode='valid')\n",
        "test_dataset = PPIDataset(mode='test')\n",
        "len(train_dataset), len(valid_dataset), len(valid_dataset)"
      ]
    },
    {
      "cell_type": "markdown",
      "metadata": {
        "id": "qWBQ3M1lUiXt"
      },
      "source": [
        "Each entry is graph, node features and node labels "
      ]
    },
    {
      "cell_type": "code",
      "execution_count": 110,
      "metadata": {
        "colab": {
          "base_uri": "https://localhost:8080/"
        },
        "id": "kdqZE8avkCES",
        "outputId": "e9d7e0b2-53b9-4204-ed97-e79cc15fa647"
      },
      "outputs": [
        {
          "data": {
            "text/plain": [
              "Graph(num_nodes=1767, num_edges=34085,\n",
              "      ndata_schemes={'label': Scheme(shape=(121,), dtype=torch.float32), '_ID': Scheme(shape=(), dtype=torch.int64), 'feat': Scheme(shape=(50,), dtype=torch.float32)}\n",
              "      edata_schemes={'_ID': Scheme(shape=(), dtype=torch.int64)})"
            ]
          },
          "execution_count": 110,
          "metadata": {},
          "output_type": "execute_result"
        }
      ],
      "source": [
        "g, feat, label = train_dataset[0]\n",
        "g"
      ]
    },
    {
      "cell_type": "code",
      "execution_count": 111,
      "metadata": {
        "colab": {
          "base_uri": "https://localhost:8080/"
        },
        "id": "E3krPNSdwBA5",
        "outputId": "a67a95d4-fcba-4eab-fb0c-c6a0b4efd4ba"
      },
      "outputs": [
        {
          "data": {
            "text/plain": [
              "tensor([[1., 0., 0.,  ..., 0., 0., 0.],\n",
              "        [0., 1., 0.,  ..., 0., 0., 0.],\n",
              "        [0., 0., 1.,  ..., 0., 0., 0.],\n",
              "        ...,\n",
              "        [0., 0., 0.,  ..., 1., 0., 0.],\n",
              "        [0., 0., 0.,  ..., 0., 1., 0.],\n",
              "        [0., 0., 0.,  ..., 0., 0., 1.]])"
            ]
          },
          "execution_count": 111,
          "metadata": {},
          "output_type": "execute_result"
        }
      ],
      "source": [
        "g.adj().to_dense()"
      ]
    },
    {
      "cell_type": "code",
      "execution_count": 112,
      "metadata": {
        "colab": {
          "base_uri": "https://localhost:8080/"
        },
        "id": "xS1V1d0OlyJB",
        "outputId": "854b35a9-0643-4e31-f7e3-1bb64d14fcae"
      },
      "outputs": [
        {
          "data": {
            "text/plain": [
              "tensor([[-0.0855, -0.0884, -0.1128,  ..., -0.1399, -0.1494, -0.1481],\n",
              "        [-0.0855, -0.0884, -0.1128,  ..., -0.1399, -0.1494, -0.1481],\n",
              "        [-0.0855, -0.0884, -0.1128,  ..., -0.1399, -0.1494, -0.1481],\n",
              "        ...,\n",
              "        [-0.0855, -0.0884, -0.1128,  ..., -0.1399, -0.1494, -0.1481],\n",
              "        [-0.0855, -0.0884, -0.1128,  ..., -0.1399, -0.1494, -0.1481],\n",
              "        [-0.0855, -0.0884, -0.1128,  ..., -0.1399, -0.1494, -0.1481]])"
            ]
          },
          "execution_count": 112,
          "metadata": {},
          "output_type": "execute_result"
        }
      ],
      "source": [
        "feat"
      ]
    },
    {
      "cell_type": "code",
      "execution_count": 113,
      "metadata": {
        "colab": {
          "base_uri": "https://localhost:8080/"
        },
        "id": "0-DV5P8il0iB",
        "outputId": "932cbaf3-9706-4cfd-bde5-ced5bcb1b0c2"
      },
      "outputs": [
        {
          "data": {
            "text/plain": [
              "tensor([[1., 0., 0.,  ..., 1., 1., 0.],\n",
              "        [1., 0., 0.,  ..., 1., 1., 1.],\n",
              "        [1., 1., 1.,  ..., 0., 0., 0.],\n",
              "        ...,\n",
              "        [0., 0., 0.,  ..., 0., 0., 0.],\n",
              "        [0., 0., 0.,  ..., 0., 0., 0.],\n",
              "        [1., 0., 0.,  ..., 0., 0., 0.]])"
            ]
          },
          "execution_count": 113,
          "metadata": {},
          "output_type": "execute_result"
        }
      ],
      "source": [
        "label"
      ]
    },
    {
      "cell_type": "code",
      "execution_count": 114,
      "metadata": {
        "colab": {
          "base_uri": "https://localhost:8080/"
        },
        "id": "Q9oI1GszRtcx",
        "outputId": "7a00438c-9f22-4f02-c1eb-c80d29edfe06"
      },
      "outputs": [
        {
          "data": {
            "text/plain": [
              "(121, 50)"
            ]
          },
          "execution_count": 114,
          "metadata": {},
          "output_type": "execute_result"
        }
      ],
      "source": [
        "num_classes = train_dataset.graphs[0].ndata['label'].shape[1]\n",
        "num_feats = train_dataset.graphs[0].ndata['feat'].shape[1]\n",
        "num_classes, num_feats"
      ]
    },
    {
      "cell_type": "markdown",
      "metadata": {
        "id": "7Wa37HV6Ux1s"
      },
      "source": [
        "Prepare dataloader"
      ]
    },
    {
      "cell_type": "code",
      "execution_count": 115,
      "metadata": {
        "id": "XWM9GVgcj5Aj"
      },
      "outputs": [],
      "source": [
        "def collate(sample):\n",
        "    graphs, feats, labels = map(list, zip(*sample))\n",
        "    graph = dgl.batch(graphs)\n",
        "    feats = torch.cat(feats)\n",
        "    labels = torch.cat(labels)\n",
        "    return graph, feats, labels\n",
        "\n",
        "train_dataloader = DataLoader(\n",
        "    train_dataset, batch_size=2, drop_last=False, collate_fn=collate, shuffle=True)\n",
        "valid_dataloader = DataLoader(\n",
        "    valid_dataset, batch_size=2, drop_last=False, collate_fn=collate)\n",
        "test_dataloader = DataLoader(\n",
        "    test_dataset, batch_size=2, drop_last=False, collate_fn=collate)"
      ]
    },
    {
      "cell_type": "markdown",
      "metadata": {
        "id": "UqbX6uNiobZj"
      },
      "source": [
        "### Teacher GAT model"
      ]
    },
    {
      "cell_type": "markdown",
      "metadata": {
        "id": "VrTCs-7rVS73"
      },
      "source": [
        "The teacher is GAT model that returns intermediate hidden states after each layer"
      ]
    },
    {
      "cell_type": "code",
      "execution_count": 116,
      "metadata": {
        "id": "1miHAQ6_7H6L"
      },
      "outputs": [],
      "source": [
        "from dgl.utils import expand_as_pair"
      ]
    },
    {
      "cell_type": "code",
      "execution_count": 117,
      "metadata": {
        "id": "kZ1WntkivHBq"
      },
      "outputs": [],
      "source": [
        "class GAT(nn.Module):\n",
        "    def __init__(self, n_layers, n_heads, in_dim, h_dim, out_dim):\n",
        "        super().__init__()\n",
        "        self.layers = []\n",
        "        self.layers.append(\n",
        "            dgl.nn.GATConv(\n",
        "                    in_feats=in_dim, \n",
        "                    out_feats=h_dim, \n",
        "                    num_heads=n_heads[0], \n",
        "                    residual=False,\n",
        "                    activation=nn.LeakyReLU(0.02)))\n",
        "        for i in range(1, n_layers-1):\n",
        "            self.layers.append(\n",
        "                dgl.nn.GATConv(\n",
        "                    in_feats=h_dim*n_heads[i-1], \n",
        "                    out_feats=h_dim, \n",
        "                    num_heads=n_heads[i],\n",
        "                    residual=True,\n",
        "                    activation=nn.LeakyReLU(0.02)))\n",
        "        self.layers.append(\n",
        "            dgl.nn.GATConv(\n",
        "                in_feats=h_dim*n_heads[-2], \n",
        "                out_feats=out_dim, \n",
        "                num_heads=n_heads[-1],\n",
        "                residual=True\n",
        "            )\n",
        "        )\n",
        "        self.layers = nn.Sequential(*self.layers)\n",
        "        \n",
        "    def forward(self, g, feat):\n",
        "        h = feat\n",
        "        mid_h = []\n",
        "        for l in self.layers[:-1]:\n",
        "            h = l(g, h).flatten(1)\n",
        "            mid_h.append(h)\n",
        "        logits = self.layers[-1](g, h).mean(1)\n",
        "        return logits, mid_h"
      ]
    },
    {
      "cell_type": "code",
      "execution_count": 118,
      "metadata": {
        "id": "LhRMOohSoa3Z"
      },
      "outputs": [],
      "source": [
        "def _t_model():\n",
        "    return GAT(n_layers=3, n_heads=[1, 1, 1], in_dim=num_feats, h_dim=256, out_dim=num_classes)\n",
        "t_model = _t_model()"
      ]
    },
    {
      "cell_type": "code",
      "execution_count": 119,
      "metadata": {
        "colab": {
          "base_uri": "https://localhost:8080/"
        },
        "id": "WgKsvD3oqYtV",
        "outputId": "c5b8deb3-dfee-44af-8898-f0a8c6efd528"
      },
      "outputs": [
        {
          "data": {
            "text/plain": [
              "(torch.Size([6, 121]), 2)"
            ]
          },
          "execution_count": 119,
          "metadata": {},
          "output_type": "execute_result"
        }
      ],
      "source": [
        "g = dgl.graph((\n",
        "    [0, 1, 2, 3, 2, 5], \n",
        "    [1, 2, 3, 4, 0, 3]))\n",
        "g = dgl.add_self_loop(g)\n",
        "feat = torch.ones(6, 50)\n",
        "h, mid_h = t_model(g, feat)\n",
        "h.shape, len(mid_h)"
      ]
    },
    {
      "cell_type": "markdown",
      "metadata": {
        "id": "ufaqXd8UeTgg"
      },
      "source": [
        "### Train teacher"
      ]
    },
    {
      "cell_type": "markdown",
      "metadata": {
        "id": "3gTEHnHzaHUg"
      },
      "source": [
        "Here is the regular training process"
      ]
    },
    {
      "cell_type": "code",
      "execution_count": 120,
      "metadata": {
        "id": "rro-Eyxorn6u"
      },
      "outputs": [],
      "source": [
        "def train(model, dataloader, device, opt):\n",
        "    model.train()\n",
        "    _train_loss = []\n",
        "    for graph, feat, label in dataloader:\n",
        "        graph, feat, label = graph.to(device), feat.to(device), label.to(device)\n",
        "        logits, _ = model(graph, feat)\n",
        "        loss = F.binary_cross_entropy_with_logits(logits, label)\n",
        "        opt.zero_grad()\n",
        "        loss.backward()\n",
        "        opt.step()\n",
        "        _train_loss.append(loss.item())\n",
        "    return sum(_train_loss) / len(_train_loss)\n",
        "\n",
        "def eval(model, dataloader, device):\n",
        "    model.eval()\n",
        "    _val_loss = []\n",
        "    for graph, feat, label in dataloader:\n",
        "        graph, feat, label = graph.to(device), feat.to(device), label.to(device)\n",
        "        with torch.no_grad():\n",
        "            logits, _ = model(graph, feat)\n",
        "        loss = F.binary_cross_entropy_with_logits(logits, label)\n",
        "        _val_loss.append(loss.item())\n",
        "    return sum(_val_loss) / len(_val_loss)\n",
        "\n",
        "def test_score(model, dataloader, device):\n",
        "    model.eval()\n",
        "    _test_score = []\n",
        "    for graph, feat, label in dataloader:\n",
        "        graph, feat = graph.to(device), feat.to(device)\n",
        "        with torch.no_grad():\n",
        "            logits, _ = model(graph, feat)\n",
        "        prediction = torch.sigmoid(logits).cpu().numpy() > 0.5\n",
        "        label = label.numpy()\n",
        "        score = f1_score(label, prediction, average='micro')\n",
        "        _test_score.append(score)\n",
        "    return sum(_test_score) / len(_test_score)\n",
        "\n",
        "def run(n_epochs, model, train_dataloader, valid_dataloader, device, opt):\n",
        "    train_loss, val_loss = [], []\n",
        "    for epoch in range(n_epochs):\n",
        "        \n",
        "        loss = train(model, train_dataloader, device, opt)\n",
        "        train_loss.append(loss)\n",
        "        \n",
        "        loss = eval(model, valid_dataloader, device)\n",
        "        val_loss.append(loss)\n",
        "\n",
        "        plt.plot(train_loss[-50:], label='train')\n",
        "        plt.plot(val_loss[-50:], label='val')\n",
        "        plt.legend()\n",
        "        plt.title('Cross entropy loss. Epoch: {}/{}'.format(epoch+1, n_epochs))\n",
        "        plt.show()\n",
        "        clear_output(wait=True)"
      ]
    },
    {
      "cell_type": "code",
      "execution_count": 121,
      "metadata": {
        "colab": {
          "base_uri": "https://localhost:8080/"
        },
        "id": "xbGUAa69gHY6",
        "outputId": "a6ed9136-232a-4eeb-e167-25cb6bc2d6c1"
      },
      "outputs": [
        {
          "data": {
            "text/plain": [
              "device(type='cuda')"
            ]
          },
          "execution_count": 121,
          "metadata": {},
          "output_type": "execute_result"
        }
      ],
      "source": [
        "device = torch.device('cuda') if torch.cuda.is_available() else torch.device('cpu')\n",
        "device"
      ]
    },
    {
      "cell_type": "code",
      "execution_count": 122,
      "metadata": {
        "id": "2sA2xPixNtxF"
      },
      "outputs": [],
      "source": [
        "t_model = _t_model()\n",
        "t_model.to(device)\n",
        "opt = Adam(t_model.parameters(), lr=0.005)"
      ]
    },
    {
      "cell_type": "code",
      "execution_count": 123,
      "metadata": {
        "colab": {
          "base_uri": "https://localhost:8080/",
          "height": 281
        },
        "id": "0Vx9-t1QNkqV",
        "outputId": "2a71d01b-9942-4796-c86e-f422cff9a2cb"
      },
      "outputs": [
        {
          "data": {
            "image/png": "[encoded data removed]",
            "text/plain": [
              "<Figure size 432x288 with 1 Axes>"
            ]
          },
          "metadata": {
            "needs_background": "light"
          },
          "output_type": "display_data"
        }
      ],
      "source": [
        "n_epochs = 100\n",
        "run(n_epochs, t_model, train_dataloader, valid_dataloader, device, opt)"
      ]
    },
    {
      "cell_type": "code",
      "execution_count": 124,
      "metadata": {
        "colab": {
          "base_uri": "https://localhost:8080/"
        },
        "id": "kbdMwea1j98b",
        "outputId": "4d358a54-f65f-4b14-f9d1-2b4d3df2b5dd"
      },
      "outputs": [
        {
          "name": "stdout",
          "output_type": "stream",
          "text": [
            "Test F1 score: 0.7968\n"
          ]
        }
      ],
      "source": [
        "score = test_score(t_model, test_dataloader, device)\n",
        "print(f'Test F1 score: {score:.4f}')"
      ]
    },
    {
      "cell_type": "markdown",
      "metadata": {
        "id": "KEiAfYTFQ6qI"
      },
      "source": [
        "### Student GAT model"
      ]
    },
    {
      "cell_type": "markdown",
      "metadata": {
        "id": "dbqC375jcUlk"
      },
      "source": [
        "Let us compare the teacher and srudent model size"
      ]
    },
    {
      "cell_type": "markdown",
      "metadata": {
        "id": "WzSRTdj76QtN"
      },
      "source": [
        "Teacher"
      ]
    },
    {
      "cell_type": "code",
      "execution_count": 125,
      "metadata": {
        "colab": {
          "base_uri": "https://localhost:8080/"
        },
        "id": "OArCs5ISo3jg",
        "outputId": "b48067a5-9cd3-4846-aa25-187823f6fe73"
      },
      "outputs": [
        {
          "name": "stdout",
          "output_type": "stream",
          "text": [
            "Number of parameters: 0.14M\n"
          ]
        }
      ],
      "source": [
        "n_params = sum(p.numel() for p in t_model.parameters() if p.requires_grad)\n",
        "print(f'Number of parameters: {n_params * 1e-6:.2f}M')"
      ]
    },
    {
      "cell_type": "markdown",
      "metadata": {
        "id": "Gmtml5q36SC3"
      },
      "source": [
        "Student"
      ]
    },
    {
      "cell_type": "code",
      "execution_count": 126,
      "metadata": {
        "colab": {
          "base_uri": "https://localhost:8080/"
        },
        "id": "iNZpg02vqRKG",
        "outputId": "5eedbbff-1520-4386-d000-c6d173381b89"
      },
      "outputs": [
        {
          "name": "stdout",
          "output_type": "stream",
          "text": [
            "Number of parameters: 0.03M\n"
          ]
        }
      ],
      "source": [
        "def _s_model():\n",
        "    return GAT(n_layers=3, n_heads=[1, 1, 1], in_dim=num_feats, h_dim=68, out_dim=num_classes)\n",
        "s_model = _s_model()\n",
        "n_params = sum(p.numel() for p in s_model.parameters() if p.requires_grad)\n",
        "print(f'Number of parameters: {n_params * 1e-6:.2f}M')"
      ]
    },
    {
      "cell_type": "markdown",
      "metadata": {
        "id": "sKVm4YPIeW76"
      },
      "source": [
        "### Train student without LSP"
      ]
    },
    {
      "cell_type": "markdown",
      "metadata": {
        "id": "Mg6RV9Q-c6pv"
      },
      "source": [
        "Here is the regular training of the student model"
      ]
    },
    {
      "cell_type": "code",
      "execution_count": 127,
      "metadata": {
        "colab": {
          "base_uri": "https://localhost:8080/",
          "height": 281
        },
        "id": "ofuHqMDUq5yy",
        "outputId": "f4c394ae-9fbd-4251-b69f-b8f24da4a86f"
      },
      "outputs": [
        {
          "data": {
            "image/png": "[encoded data removed]",
            "text/plain": [
              "<Figure size 432x288 with 1 Axes>"
            ]
          },
          "metadata": {
            "needs_background": "light"
          },
          "output_type": "display_data"
        }
      ],
      "source": [
        "n_runs = 5\n",
        "scores = []\n",
        "for i in range(n_runs):\n",
        "    s_model = _s_model()\n",
        "    s_model.to(device)\n",
        "    opt = Adam(s_model.parameters(), lr=0.005)\n",
        "    n_epochs = 100\n",
        "    run(n_epochs, s_model, train_dataloader, valid_dataloader, device, opt)\n",
        "    scores.append(test_score(s_model, test_dataloader, device))\n",
        "scores = np.array(scores)"
      ]
    },
    {
      "cell_type": "code",
      "execution_count": 128,
      "metadata": {
        "colab": {
          "base_uri": "https://localhost:8080/"
        },
        "id": "bsHWa0Kw4zzR",
        "outputId": "ebe3244a-ff19-48a3-c1e6-cf2eda1ce6b1"
      },
      "outputs": [
        {
          "name": "stdout",
          "output_type": "stream",
          "text": [
            "Test F1 score: 0.6356 ± 0.0198\n"
          ]
        }
      ],
      "source": [
        "print(f'Test F1 score: {scores.mean():.4f} ± {2*scores.std():.4f}')"
      ]
    },
    {
      "cell_type": "markdown",
      "metadata": {
        "id": "swiA_SIhevCW"
      },
      "source": [
        "### Graph local structure"
      ]
    },
    {
      "cell_type": "code",
      "execution_count": 129,
      "metadata": {
        "id": "vCT4R2sOwsD5"
      },
      "outputs": [],
      "source": [
        "s_model = _s_model()\n",
        "s_model.to(device);"
      ]
    },
    {
      "cell_type": "code",
      "execution_count": 130,
      "metadata": {
        "id": "b62Q2VlG6nB9"
      },
      "outputs": [],
      "source": [
        "graph, feat, label = train_dataset[1]\n",
        "graph, feat, label = graph.to(device), feat.to(device), label.to(device)\n",
        "\n",
        "with torch.no_grad():\n",
        "    _, t_mid_h = t_model(graph, feat)\n",
        "    logits, s_mid_h = s_model(graph, feat)"
      ]
    },
    {
      "cell_type": "code",
      "execution_count": 131,
      "metadata": {
        "colab": {
          "base_uri": "https://localhost:8080/"
        },
        "id": "rEBq6Ur9A1yF",
        "outputId": "9dc2c81c-1f0b-481b-b761-c1748f7d7da6"
      },
      "outputs": [
        {
          "data": {
            "text/plain": [
              "(2, 2)"
            ]
          },
          "execution_count": 131,
          "metadata": {},
          "output_type": "execute_result"
        }
      ],
      "source": [
        "len(t_mid_h), len(s_mid_h)"
      ]
    },
    {
      "cell_type": "markdown",
      "metadata": {
        "id": "58mjJV9hfYa8"
      },
      "source": [
        "Let us preserve local structure in the first layer"
      ]
    },
    {
      "cell_type": "code",
      "execution_count": 132,
      "metadata": {
        "colab": {
          "base_uri": "https://localhost:8080/"
        },
        "id": "83W-pDZKCAnt",
        "outputId": "488b16d2-4c49-42d8-d149-d830592d5076"
      },
      "outputs": [
        {
          "data": {
            "text/plain": [
              "(torch.Size([1377, 256]), torch.Size([1377, 68]))"
            ]
          },
          "execution_count": 132,
          "metadata": {},
          "output_type": "execute_result"
        }
      ],
      "source": [
        "t_emb = t_mid_h[0]\n",
        "s_emb = s_mid_h[0]\n",
        "t_emb.shape, s_emb.shape"
      ]
    },
    {
      "cell_type": "markdown",
      "metadata": {
        "id": "IfwB1oN0hEpQ"
      },
      "source": [
        "Local structire describes the distribution of distances between neighbors\n",
        "\n",
        "$$L S_{i j}=\\frac{e^{\\text{sim}(z_{i}, z_{j})}}{\\sum_{j:(i, j) \\in \\mathcal{E}} e^{\\text{sim}(z_{i}, z_{j})}}$$\n",
        "\n",
        "Here we apply Gaussian kernel function as a distance function\n",
        "\n",
        "$$\\text{sim}(z_i, z_j) = e^{-\\frac{1}{2 \\sigma^2}(z_i - z_j)^2}$$"
      ]
    },
    {
      "cell_type": "code",
      "execution_count": 133,
      "metadata": {
        "id": "b9IKFGV_seeK"
      },
      "outputs": [],
      "source": [
        "def loc_structure(_graph, emb, sigma=1):\n",
        "    graph = _graph.remove_self_loop()\n",
        "    graph.ndata['h'] = emb\n",
        "    graph.apply_edges(fn.u_sub_v('h', 'h', 'diff'))\n",
        "    diff = graph.edata['diff']\n",
        "    h = torch.exp(-(diff**2).sum(1) / 2 / sigma**2)\n",
        "    return edge_softmax(graph, h)"
      ]
    },
    {
      "cell_type": "code",
      "execution_count": 134,
      "metadata": {
        "colab": {
          "base_uri": "https://localhost:8080/"
        },
        "id": "JHWzkXUszhsO",
        "outputId": "979460e1-6515-40a2-a7c5-7a45119975f9"
      },
      "outputs": [
        {
          "data": {
            "text/plain": [
              "tensor([0.0542, 0.0059, 0.1235,  ..., 0.0178, 0.0123, 0.0107], device='cuda:0')"
            ]
          },
          "execution_count": 134,
          "metadata": {},
          "output_type": "execute_result"
        }
      ],
      "source": [
        "s_ls = loc_structure(graph, s_emb, sigma=3)\n",
        "t_ls = loc_structure(graph, t_emb, sigma=3)\n",
        "t_ls"
      ]
    },
    {
      "cell_type": "code",
      "execution_count": 135,
      "metadata": {
        "id": "l46698syxJXy"
      },
      "outputs": [],
      "source": [
        "def plot_node_ls(v, t_ls, s_ls, _graph):\n",
        "    graph = _graph.remove_self_loop()\n",
        "    t_proba = t_ls[graph.in_edges(v, form='eid')].cpu()\n",
        "    s_proba = s_ls[graph.in_edges(v, form='eid')].cpu()\n",
        "    x_space = np.arange(t_proba.shape[0])\n",
        "    w = np.min(np.diff(x_space)) / 3\n",
        "    plt.bar(x_space, t_proba, w, label='Teacher distribution')\n",
        "    plt.bar(x_space+w, s_proba, w, label='Student distribution')\n",
        "    plt.legend(loc='lower left')\n",
        "    plt.title(f'Local structure of the node {v}')\n",
        "    plt.show()"
      ]
    },
    {
      "cell_type": "code",
      "execution_count": 136,
      "metadata": {
        "colab": {
          "base_uri": "https://localhost:8080/",
          "height": 545
        },
        "id": "zH_eley3JD_v",
        "outputId": "45d17abf-7e90-4dc6-bc07-987954fbd3e6"
      },
      "outputs": [
        {
          "data": {
            "image/png": "[encoded data removed]",
            "text/plain": [
              "<Figure size 432x288 with 1 Axes>"
            ]
          },
          "metadata": {
            "needs_background": "light"
          },
          "output_type": "display_data"
        },
        {
          "data": {
            "image/png": "[encoded data removed]",
            "text/plain": [
              "<Figure size 432x288 with 1 Axes>"
            ]
          },
          "metadata": {
            "needs_background": "light"
          },
          "output_type": "display_data"
        }
      ],
      "source": [
        "plot_node_ls(2, t_ls, s_ls, graph)\n",
        "plot_node_ls(8, t_ls, s_ls, graph)"
      ]
    },
    {
      "cell_type": "markdown",
      "metadata": {
        "id": "b8H3Oej1yjpW"
      },
      "source": [
        "### Graph KL divergence"
      ]
    },
    {
      "cell_type": "markdown",
      "metadata": {
        "id": "6APd8pFajywy"
      },
      "source": [
        "We will minimize the KL divergence between distributions of teacher local structure and student local structure\n",
        "\n",
        "$$\\mathcal{S}_{i}=D_{K L}\\left(L S_{i}^{s}|| L S_{i}^{t}\\right)=\\sum_{j:(j, i) \\in \\mathcal{E}} L S_{i j}^{s} \\log \\left(\\frac{L S_{i j}^{s}}{L S_{i j}^{t}}\\right)$$\n",
        "\n",
        "$$\\mathcal{L}_\\text{LSP}=\\frac{1}{N} \\sum_{i=1}^{N} \\mathcal{S}_{i}$$\n",
        "\n",
        "We can compute graph KL by message passing framework\n",
        "\n",
        "<img src='https://raw.githubusercontent.com/netspractice/advanced_gnn/main/lab04_knowledge_distillation/message_passing.jpeg' width=500>"
      ]
    },
    {
      "cell_type": "code",
      "execution_count": 137,
      "metadata": {
        "id": "KJZ7M_rt0Wki"
      },
      "outputs": [],
      "source": [
        "def graph_kl(_graph, edgex, edgey):\n",
        "    graph = _graph.remove_self_loop()\n",
        "    graph.edata['diff'] = edgex * (torch.log(edgex) - torch.log(edgey))\n",
        "    graph.update_all(fn.copy_e('diff', 'm'), fn.sum('m', 'kl'))\n",
        "    return graph.ndata['kl'].mean()"
      ]
    },
    {
      "cell_type": "code",
      "execution_count": 138,
      "metadata": {
        "colab": {
          "base_uri": "https://localhost:8080/"
        },
        "id": "cAXo3hJN-Uam",
        "outputId": "ae01ef2d-2ba7-4046-8943-303af5e9e59e"
      },
      "outputs": [
        {
          "data": {
            "text/plain": [
              "tensor(0.0250, device='cuda:0')"
            ]
          },
          "execution_count": 138,
          "metadata": {},
          "output_type": "execute_result"
        }
      ],
      "source": [
        "graph_kl(graph, s_ls, t_ls)"
      ]
    },
    {
      "cell_type": "code",
      "execution_count": 139,
      "metadata": {
        "colab": {
          "base_uri": "https://localhost:8080/"
        },
        "id": "kB1WEmkLBr7S",
        "outputId": "6a1666af-5ef0-4ae6-9963-40466fa56126"
      },
      "outputs": [
        {
          "data": {
            "text/plain": [
              "tensor(0., device='cuda:0')"
            ]
          },
          "execution_count": 139,
          "metadata": {},
          "output_type": "execute_result"
        }
      ],
      "source": [
        "graph_kl(graph, t_ls, t_ls)"
      ]
    },
    {
      "cell_type": "markdown",
      "metadata": {
        "id": "4e49wn53jBWL"
      },
      "source": [
        "### LSP loss"
      ]
    },
    {
      "cell_type": "markdown",
      "metadata": {
        "id": "n5T2Lv0OlgGg"
      },
      "source": [
        "We train the student using local structure from the teacher. So, full loss contains cross entropy loss and LSP loss.\n",
        "\n",
        "$$\\mathcal{L}=\\mathcal{H}\\left(p_{s}, y\\right)+\\lambda \\mathcal{L}_\\text{LSP}$$"
      ]
    },
    {
      "cell_type": "code",
      "execution_count": 140,
      "metadata": {
        "colab": {
          "base_uri": "https://localhost:8080/"
        },
        "id": "R8Eqy7E9AZYw",
        "outputId": "7e72743d-6192-4617-be10-a5180d9fc011"
      },
      "outputs": [
        {
          "name": "stdout",
          "output_type": "stream",
          "text": [
            "CE loss: 1.1927\n"
          ]
        }
      ],
      "source": [
        "ce_loss = F.binary_cross_entropy_with_logits(logits, label)\n",
        "print(f'CE loss: {ce_loss:.4f}')"
      ]
    },
    {
      "cell_type": "code",
      "execution_count": 141,
      "metadata": {
        "colab": {
          "base_uri": "https://localhost:8080/"
        },
        "id": "G076b0qkgn4x",
        "outputId": "d9d5ca3f-fcc1-411c-9096-6d63c5904f6c"
      },
      "outputs": [
        {
          "name": "stdout",
          "output_type": "stream",
          "text": [
            "Full loss: 1.6584\n"
          ]
        }
      ],
      "source": [
        "lsp_weight = 100\n",
        "ce_loss = F.binary_cross_entropy_with_logits(logits, label)\n",
        "s_ls = loc_structure(graph, s_emb, sigma=1)\n",
        "t_ls = loc_structure(graph, t_emb, sigma=1)\n",
        "lsp_loss = graph_kl(graph, s_ls, t_ls)\n",
        "full_loss = ce_loss + lsp_weight*lsp_loss\n",
        "print(f'Full loss: {full_loss:.4f}')"
      ]
    },
    {
      "cell_type": "markdown",
      "metadata": {
        "id": "z8uWScHaehpf"
      },
      "source": [
        "### Train student with LSP"
      ]
    },
    {
      "cell_type": "code",
      "execution_count": 142,
      "metadata": {
        "id": "xMmLYvzTOMBx"
      },
      "outputs": [],
      "source": [
        "t_target_layers = [0, 1]\n",
        "s_target_layers = [0, 1]"
      ]
    },
    {
      "cell_type": "code",
      "execution_count": 152,
      "metadata": {
        "id": "qEIAWEeUdbKg"
      },
      "outputs": [],
      "source": [
        "def lsp_train(t_model, s_model, dataloader, device, opt):\n",
        "    s_model.train()\n",
        "    _full_train_loss = []\n",
        "    _ce_train_loss = []\n",
        "    for graph, feat, label in dataloader:\n",
        "        graph, feat, label = graph.to(device), feat.to(device), label.to(device)\n",
        "        with torch.no_grad():\n",
        "            _, t_mid_h = t_model(graph, feat)\n",
        "        logits, s_mid_h = s_model(graph, feat)\n",
        "        \n",
        "        ce_loss = F.binary_cross_entropy_with_logits(logits, label)\n",
        "\n",
        "        lsp_loss = 0\n",
        "        for i in range(len(t_target_layers)):\n",
        "            s_ls = loc_structure(graph, t_mid_h[t_target_layers[i]], sigma=1)\n",
        "            t_ls = loc_structure(graph, s_mid_h[s_target_layers[i]], sigma=1)\n",
        "            lsp_loss += graph_kl(graph, s_ls, t_ls)\n",
        "        lsp_loss /= len(t_target_layers)\n",
        "        \n",
        "        lsp_weight = 5\n",
        "        loss = ce_loss + lsp_weight*lsp_loss\n",
        "\n",
        "        opt.zero_grad()\n",
        "        loss.backward()\n",
        "        opt.step()\n",
        "        _full_train_loss.append(loss.item())\n",
        "        _ce_train_loss.append(ce_loss.item())\n",
        "    return sum(_full_train_loss) / len(_full_train_loss), sum(_ce_train_loss) / len(_ce_train_loss)\n",
        "\n",
        "def lsp_run(n_epochs, t_model, s_model, train_dataloader, valid_dataloader, device, opt):\n",
        "    full_train_loss, ce_train_loss, val_loss = [], [], []\n",
        "    for epoch in range(n_epochs):\n",
        "        \n",
        "        full, ce = lsp_train(t_model, s_model, train_dataloader, device, opt)\n",
        "        ce_train_loss.append(ce)\n",
        "        full_train_loss.append(full)\n",
        "        \n",
        "        loss = eval(s_model, valid_dataloader, device)\n",
        "        val_loss.append(loss)\n",
        "\n",
        "        plt.plot(\n",
        "            full_train_loss[-50:], \n",
        "            label='Full loss, train', \n",
        "            color='tab:blue')\n",
        "        plt.plot(\n",
        "            ce_train_loss[-50:], \n",
        "            label='CE loss, train', \n",
        "            color='tab:blue', \n",
        "            linestyle='--')\n",
        "        plt.plot(val_loss[-50:], label='CE loss, val', color='tab:orange')\n",
        "        plt.legend()\n",
        "        plt.title('Loss. Epoch: {}/{}'.format(epoch+1, n_epochs))\n",
        "        plt.show()\n",
        "        clear_output(wait=True)"
      ]
    },
    {
      "cell_type": "code",
      "execution_count": 153,
      "metadata": {
        "colab": {
          "base_uri": "https://localhost:8080/",
          "height": 281
        },
        "id": "Bf3HRUb2FcAK",
        "outputId": "da9ca0df-89aa-43bf-9abd-fde86363f7ab"
      },
      "outputs": [
        {
          "data": {
            "image/png": "[encoded data removed]",
            "text/plain": [
              "<Figure size 432x288 with 1 Axes>"
            ]
          },
          "metadata": {
            "needs_background": "light"
          },
          "output_type": "display_data"
        }
      ],
      "source": [
        "n_runs = 5\n",
        "scores = []\n",
        "for i in range(n_runs):\n",
        "    s_model = _s_model()\n",
        "    s_model.to(device)\n",
        "    opt = Adam(s_model.parameters(), lr=0.005)\n",
        "    n_epochs = 100\n",
        "    lsp_run(n_epochs, t_model, s_model, train_dataloader, valid_dataloader, device, opt)\n",
        "    scores.append(test_score(s_model, test_dataloader, device))\n",
        "scores = np.array(scores)"
      ]
    },
    {
      "cell_type": "code",
      "execution_count": 154,
      "metadata": {
        "colab": {
          "base_uri": "https://localhost:8080/"
        },
        "id": "3dCBUm75NUeX",
        "outputId": "2efa84e2-8a09-4729-b641-1c43562ed578"
      },
      "outputs": [
        {
          "name": "stdout",
          "output_type": "stream",
          "text": [
            "Test F1 score: 0.6510 ± 0.0199\n"
          ]
        }
      ],
      "source": [
        "print(f'Test F1 score: {scores.mean():.4f} ± {2*scores.std():.4f}')"
      ]
    },
    {
      "cell_type": "code",
      "execution_count": 145,
      "metadata": {
        "id": "vEmCTMjVOnhk"
      },
      "outputs": [],
      "source": []
    }
  ],
  "metadata": {
    "accelerator": "GPU",
    "colab": {
      "collapsed_sections": [],
      "provenance": []
    },
    "kernelspec": {
      "display_name": "Python 3",
      "name": "python3"
    },
    "language_info": {
      "name": "python"
    }
  },
  "nbformat": 4,
  "nbformat_minor": 0
}
